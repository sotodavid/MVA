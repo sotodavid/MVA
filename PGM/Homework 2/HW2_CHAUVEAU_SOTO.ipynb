{
  "cells": [
    {
      "cell_type": "markdown",
      "metadata": {
        "id": "0xbOkvh_L2-R"
      },
      "source": [
        "# Master M2 MVA 2021/2022 - Introduction to (deep) Probabilistic Graphical Models - Homework 2"
      ]
    },
    {
      "cell_type": "markdown",
      "metadata": {
        "id": "fx0bQkwML2-S"
      },
      "source": [
        "CHAUVEAU Marion & SOTO David 14/01/2022"
      ]
    },
    {
      "cell_type": "markdown",
      "metadata": {
        "id": "X8eHFLFEL2-T"
      },
      "source": [
        "## 1 - Gaussian processes"
      ]
    },
    {
      "cell_type": "code",
      "execution_count": null,
      "metadata": {
        "id": "Q-XzjsxAL2-T"
      },
      "outputs": [],
      "source": [
        "import numpy as np\n",
        "import matplotlib.pyplot as plt\n",
        "import itertools as itertools\n",
        "import pandas as pd"
      ]
    },
    {
      "cell_type": "code",
      "execution_count": null,
      "metadata": {
        "id": "dY_ciFxtL2-U",
        "outputId": "40417deb-af5e-42d2-c620-dc8f954d1f9f"
      },
      "outputs": [
        {
          "name": "stdout",
          "output_type": "stream",
          "text": [
            "(50, 3)\n"
          ]
        }
      ],
      "source": [
        "#We read the data\n",
        "path = '/Users/marion/Desktop/MVA/Cours MVA/Probabilistic graphical models/HW2/UScrimes.csv'\n",
        "Data = pd.read_csv(path)\n",
        "Data_crime = Data.to_numpy()[:,1:].astype('float')\n",
        "print(Data_crime.shape)\n",
        "\n",
        "#We keep 75% of the data set for learning and 25% for test\n",
        "learning_ind = np.random.choice(np.arange(50),int(0.75*50),False)\n",
        "test_ind = np.delete(np.arange(50),learning_ind)\n",
        "Y = Data_crime[:,0]\n",
        "X = Data_crime[:,1:]\n",
        "X = (X - np.mean(X,axis=0))/np.std(X,axis = 0)\n",
        "Y = (Y - np.mean(Y,axis=0))/np.std(Y,axis = 0)\n",
        "y_learn = Y[learning_ind]\n",
        "x_learn = X[learning_ind,:]\n",
        "y_test = Y[test_ind,]\n",
        "x_test = X[test_ind,]"
      ]
    },
    {
      "cell_type": "markdown",
      "metadata": {
        "id": "Pd-GkYDPL2-V"
      },
      "source": [
        "### 1. Learning"
      ]
    },
    {
      "cell_type": "markdown",
      "metadata": {
        "id": "27TUum2dL2-V"
      },
      "source": [
        "We want to maximize the log-likelihood $h(\\theta) = \\log(p(Y|X,\\theta))$ with respect to the parameters. \n",
        "We write :\n",
        "\n",
        "$h(\\theta) = -\\frac{n}{2}\\log(2\\pi) - \\frac{1}{2}\\log(|C|) - \\frac{1}{2}y^{T}C^{-1}y$\n",
        "\n",
        "We compute the derivative with respect to a parameter $\\theta_k$ in the covariance function : \n",
        "\n",
        "$\\frac{\\partial h}{\\partial \\theta_k} = -\\frac{1}{2}Tr(C^{-1}\\frac{\\partial C}{\\partial \\theta_k}) + \\frac{1}{2}y^{T}C^{-1}\\frac{\\partial C}{\\partial \\theta_k}C^{-1}y$\n",
        "\n",
        "To find the good parameters setting we will then use a gradient descent method. "
      ]
    },
    {
      "cell_type": "code",
      "execution_count": null,
      "metadata": {
        "id": "ksOzk5UaL2-W"
      },
      "outputs": [],
      "source": [
        "def kernel_fct(xi,xj,theta):\n",
        "\tkernel = theta[0]*np.exp(-.5*theta[1]*np.sum((xi-xj)**2))+theta[2]+theta[3]*np.dot(xi.T,xj)\n",
        "\treturn kernel\n",
        "\n",
        "def symmetrize(a):\n",
        "    return a + a.T - np.diag(a.diagonal())"
      ]
    },
    {
      "cell_type": "code",
      "execution_count": null,
      "metadata": {
        "id": "seCPotaCL2-W"
      },
      "outputs": [],
      "source": [
        "def compute_grad(theta,x,y):\n",
        "\tn = len(y)\n",
        "\tC = np.zeros((n,n))\n",
        "\tgrad = np.zeros(5)\n",
        "\tgrad_theta = np.zeros((5,n,n))\n",
        "\tgrad_theta[4] = np.eye(n)\n",
        "\tgrad_theta[2] = np.ones((n,n))\n",
        "\tfor i in range(n):\n",
        "\t\tfor j in range(i,n):\n",
        "\t\t\tC[i,j] = kernel_fct(x[i],x[j],theta)\n",
        "\t\t\tgrad_theta[0,i,j] = np.exp(-.5*theta[1]*np.sum((x[i]-x[j])**2))\n",
        "\t\t\tgrad_theta[1,i,j] = -.5*np.sum((x[i]-x[j])**2)*theta[0]*np.exp(-.5*theta[1]*np.sum((x[i]-x[j])**2))\n",
        "\t\t\tgrad_theta[3,i,j] = np.dot(x[i].T,x[j])\n",
        "\tC = symmetrize(C)\n",
        "\tC += np.eye(n)*theta[4]\n",
        "\tgrad_theta[0] = symmetrize(grad_theta[0])\n",
        "\tgrad_theta[1] = symmetrize(grad_theta[1])\n",
        "\tgrad_theta[3] = symmetrize(grad_theta[3])\n",
        "\tC_inv = np.linalg.inv(C)\n",
        "\tC_det = np.linalg.det(C)\n",
        "\tfor t in range(5):\n",
        "\t\tgrad[t] = .5*(y.T @ C_inv @ grad_theta[t] @ C_inv @ y) - .5*np.trace(C_inv @ grad_theta[t])\n",
        "\tlog_like = -.5*(np.log(2*np.pi)*n + np.log(C_det) + (y.T @ C_inv @ y))\n",
        "\treturn grad,log_like"
      ]
    },
    {
      "cell_type": "code",
      "execution_count": null,
      "metadata": {
        "id": "39kO7jGsL2-X"
      },
      "outputs": [],
      "source": [
        "#optimisation pour trouver theta\n",
        "def Gradient_ascent(x,y,MaxIter):\n",
        "\ttheta = np.random.uniform(0,1,5)\n",
        "\ttheta_k = np.zeros(5)\n",
        "\tLog = []\n",
        "\teta = 1/4000 #learning rate\n",
        "\tfor k in range(MaxIter):\n",
        "\t\t#print(eta)\n",
        "\t\tgrad_log_like,log_like = compute_grad(theta,x,y)\n",
        "\t\t#print(grad_log_like)\n",
        "\t\tLog.append(log_like)\n",
        "\t\tfor a in range(len(theta)):\n",
        "\t\t\ttheta_k[a] = theta[a] + eta*grad_log_like[a]\n",
        "\t\ttheta = np.copy(theta_k)\n",
        "\treturn theta,Log"
      ]
    },
    {
      "cell_type": "code",
      "execution_count": null,
      "metadata": {
        "id": "I1SEOCXgL2-X"
      },
      "outputs": [],
      "source": [
        "Niter = 2000\n",
        "theta,Log = Gradient_ascent(x_learn,y_learn,Niter)"
      ]
    },
    {
      "cell_type": "code",
      "execution_count": null,
      "metadata": {
        "id": "u8z3zqAqL2-Y",
        "outputId": "bc7832d7-e908-4a67-c610-70dc5deffedf"
      },
      "outputs": [
        {
          "data": {
            "image/png": "[encoded data removed]",
            "text/plain": [
              "<Figure size 864x432 with 1 Axes>"
            ]
          },
          "metadata": {
            "needs_background": "light"
          },
          "output_type": "display_data"
        }
      ],
      "source": [
        "plt.figure(figsize = (12,6))\n",
        "plt.plot(np.arange(Niter),Log,'--',color = 'tab:blue')\n",
        "plt.title('Gradient ascent for US crime Data')\n",
        "plt.xlabel('Iterations')\n",
        "plt.ylabel('Log-likelihood')\n",
        "plt.show()"
      ]
    },
    {
      "cell_type": "markdown",
      "metadata": {
        "id": "0As95hW4L2-Y"
      },
      "source": [
        "As expected the log-likelihood increases at each iteration."
      ]
    },
    {
      "cell_type": "code",
      "execution_count": null,
      "metadata": {
        "id": "u90bubI2L2-Y",
        "outputId": "ec863a7c-f4f3-4ba2-95af-8c2b073b79de"
      },
      "outputs": [
        {
          "name": "stdout",
          "output_type": "stream",
          "text": [
            "[0.4906856  0.22625018 0.41270321 0.1902611  0.31201369]\n"
          ]
        }
      ],
      "source": [
        "print(theta)"
      ]
    },
    {
      "cell_type": "markdown",
      "metadata": {
        "id": "z5OTrCLyL2-Z"
      },
      "source": [
        "### 2. Prediction"
      ]
    },
    {
      "cell_type": "markdown",
      "metadata": {
        "id": "6gd0aRiFL2-Z"
      },
      "source": [
        "**Write a complete set of functions in R or Python implementing the prediction GP step, i.e. the prediction $\\hat{y}$ for a new observation x.**"
      ]
    },
    {
      "cell_type": "code",
      "execution_count": null,
      "metadata": {
        "id": "9RaY1_xDL2-Z"
      },
      "outputs": [],
      "source": [
        "def Prediction_GP(x, x_s, theta):\n",
        "    \"\"\"\n",
        "    K = K(X, X) \n",
        "    K_s = K(X_*, X)\n",
        "    K_s = K(X_*, X_*)\n",
        "    with X_* a new data point\n",
        "    \"\"\"\n",
        "    \n",
        "    n = x.shape[0]\n",
        "    n_s = x_s.shape[0]\n",
        "\n",
        "    K = [kernel_fct(i, j, theta) for (i, j) in itertools.product(x, x)]\n",
        "    K = np.array(K).reshape(n, n)\n",
        "    \n",
        "    K_s2 = [kernel_fct(i, j, theta) for (i, j) in itertools.product(x_s, x_s)]\n",
        "    K_s2 = np.array(K_s2).reshape(n_s, n_s)\n",
        "    \n",
        "    K_s = [kernel_fct(i, j, theta) for (i, j) in itertools.product(x_s, x)]\n",
        "    K_s = np.array(K_s).reshape(n_s, n)\n",
        "\n",
        "    y_pred = np.dot(K_s, np.dot(np.linalg.inv(K + (theta[4])*np.eye(n)), y_learn.reshape([n, 1])))\n",
        "    y_pred = np.reshape(y_pred,(y_pred.shape[0],))\n",
        "    \n",
        "    return y_pred"
      ]
    },
    {
      "cell_type": "code",
      "execution_count": null,
      "metadata": {
        "id": "vC302_C_L2-a"
      },
      "outputs": [],
      "source": [
        "y_GP = Prediction_GP(x_learn, x_test, theta)"
      ]
    },
    {
      "cell_type": "code",
      "execution_count": null,
      "metadata": {
        "id": "2t9cJTfRL2-a",
        "outputId": "4b72ac32-a4f4-4278-c97d-8c11efe13ce4"
      },
      "outputs": [
        {
          "name": "stdout",
          "output_type": "stream",
          "text": [
            "RMSE with Gaussian process :  0.6327570915912002\n"
          ]
        }
      ],
      "source": [
        "#RMSE Gaussian process\n",
        "RMSE_GP = np.sqrt(np.sum((y_GP-y_test)**2)/len(y_GP))\n",
        "print('RMSE with Gaussian process : ', RMSE_GP)"
      ]
    },
    {
      "cell_type": "markdown",
      "metadata": {
        "id": "X6j5AjHKL2-b"
      },
      "source": [
        "**Linear Model** : Let ${ \\left\\{(x_i​,y_i​) \\right\\} }_{1⩽i⩽n}$ $\\subset \\mathbb{R}^{2} \\times \\mathbb{R}$ be a i.i.d sample of n observations. \n",
        "\n",
        "We have $\\forall i=1,...,n$,  $y_i =  w^T x_i + b$.\n",
        "\n",
        "Using the matrix notations, we have : $Y = X\\theta $ \n",
        "with : \n",
        "\n",
        "$$Y =\n",
        "\\begin{pmatrix} \n",
        "y_{1}  \\\\\n",
        "\\vdots \\\\\n",
        "y_{n} \\\\\n",
        "\\end{pmatrix} \\\\$$\n",
        "\n",
        "$$\\theta =\n",
        "\\begin{pmatrix} \n",
        "w_{1}  \\\\\n",
        "\\vdots \\\\\n",
        "w_{d} \\\\\n",
        "b\n",
        "\\end{pmatrix} \\\\$$\n",
        "\n",
        "\n",
        "$$X =\n",
        " \\begin{pmatrix} \n",
        "x_{1}^\\top & 1  \\\\\n",
        "\\vdots & \\vdots \\\\\n",
        "x_{n}^\\top & 1\n",
        "\\end{pmatrix} \\\\$$\n",
        "\n",
        "We obtain $\\theta$ by minimizing the least square error :\n",
        "$$\n",
        "\\theta^{*} \\in \\underset{\\theta \\in \\mathbb{R}^{d+1}}{\\arg\\min} \\|{X \\theta - Y}\\|_{2}^{2}\n",
        "$$\n",
        "\n",
        "It gives the following equation :\n",
        "$$\\theta^{*\\mathsf{T}} X^{\\mathsf{T}} X \\theta^{*} + Y^{\\mathsf{T}} Y - 2 \\theta^{*\\mathsf{T}} X^{\\mathsf{T}} Y = 0$$\n",
        "\n",
        "And we finally get :\n",
        "$$\n",
        "\\theta^{*} = (X^{\\mathsf{T}} X)^{-1} X^{\\mathsf{T}} Y\n",
        "$$"
      ]
    },
    {
      "cell_type": "code",
      "execution_count": null,
      "metadata": {
        "id": "Ug6bZBuuL2-b"
      },
      "outputs": [],
      "source": [
        "def linear_reg(X_train,Y_train):\n",
        "\tn = X_train.shape[0]\n",
        "\tX = np.column_stack((X_train,np.ones((n,1))))\n",
        "\tPseudo_inv_X = np.linalg.pinv(X)\n",
        "\tTheta = np.dot(Pseudo_inv_X,Y_train)\n",
        "\treturn Theta"
      ]
    },
    {
      "cell_type": "code",
      "execution_count": null,
      "metadata": {
        "id": "3cdQ6wY6L2-c",
        "outputId": "2a1d6118-ed1d-4bbc-db33-85314c014983"
      },
      "outputs": [
        {
          "name": "stdout",
          "output_type": "stream",
          "text": [
            "RMSE with simple linear model :  0.6613030919548772\n",
            "RMSE with Gaussian process :  0.6327570915912002\n"
          ]
        }
      ],
      "source": [
        "Theta = linear_reg(x_learn,y_learn)\n",
        "x_test_one = np.column_stack((x_test,np.ones((x_test.shape[0],1))))\n",
        "y_pred = x_test_one @ Theta\n",
        "#RMSE linear model\n",
        "RMSE_LM = np.sqrt(np.sum((y_pred-y_test)**2)/len(y_pred))\n",
        "print('RMSE with simple linear model : ', RMSE_LM)\n",
        "#RMSE Gaussian process\n",
        "print('RMSE with Gaussian process : ', RMSE_GP)"
      ]
    },
    {
      "cell_type": "markdown",
      "metadata": {
        "id": "b_LjHOhDL2-c"
      },
      "source": [
        "### Comments : "
      ]
    },
    {
      "cell_type": "markdown",
      "metadata": {
        "id": "_GYDIYWxL2-c"
      },
      "source": [
        "Slightly better results are obtained with the Gaussian process and the inference process is robust. The Gaussian process is less constraining and predicts new data a little better. The difference between the two models would perhaps be more striking with more data and test data that differs more from the training data."
      ]
    },
    {
      "cell_type": "markdown",
      "metadata": {
        "id": "Jy0rZYyIL2-d"
      },
      "source": [
        "## 2 - IWAE"
      ]
    },
    {
      "cell_type": "code",
      "execution_count": 2,
      "metadata": {
        "id": "ise8OsMxL2-d"
      },
      "outputs": [],
      "source": [
        "import tensorflow as tf\n",
        "import matplotlib.pyplot as plt\n",
        "import tensorflow_probability as tfp\n",
        "\n",
        "tfk = tf.keras\n",
        "tfkl = tf.keras.layers\n",
        "tfd = tfp.distributions"
      ]
    },
    {
      "cell_type": "markdown",
      "metadata": {
        "id": "ZqSPrLw4L2-d"
      },
      "source": [
        "**Loading MNIST and binarising it**"
      ]
    },
    {
      "cell_type": "markdown",
      "metadata": {
        "id": "ahWWt_fbL2-d"
      },
      "source": [
        ""
      ]
    },
    {
      "cell_type": "code",
      "execution_count": 3,
      "metadata": {
        "id": "gE3zdB23L2-d",
        "colab": {
          "base_uri": "https://localhost:8080/"
        },
        "outputId": "74fbc66c-8cf0-478e-8809-c23bc5c5d41d"
      },
      "outputs": [
        {
          "output_type": "stream",
          "name": "stdout",
          "text": [
            "Downloading data from https://storage.googleapis.com/tensorflow/tf-keras-datasets/mnist.npz\n",
            "11493376/11490434 [==============================] - 0s 0us/step\n",
            "11501568/11490434 [==============================] - 0s 0us/step\n"
          ]
        }
      ],
      "source": [
        "(train_images_nonbinary, y_train), (test_images_nonbinary,  y_test) = tf.keras.datasets.mnist.load_data()\n",
        "\n",
        "train_images_nonbinary = train_images_nonbinary.reshape(train_images_nonbinary.shape[0], 28*28)\n",
        "test_images_nonbinary = test_images_nonbinary.reshape(test_images_nonbinary.shape[0], 28*28)\n",
        "\n",
        "y_train = tf.cast(y_train, tf.int64)\n",
        "y_test =tf.cast(y_test, tf.int64)"
      ]
    },
    {
      "cell_type": "code",
      "execution_count": 4,
      "metadata": {
        "id": "w-6lNQFCL2-e",
        "outputId": "61339767-21ce-4c26-a5e7-49eb11b18d3f",
        "colab": {
          "base_uri": "https://localhost:8080/",
          "height": 248
        }
      },
      "outputs": [
        {
          "output_type": "display_data",
          "data": {
            "image/png": "[encoded data removed]",
            "text/plain": [
              "<Figure size 432x288 with 1 Axes>"
            ]
          },
          "metadata": {
            "needs_background": "light"
          }
        }
      ],
      "source": [
        "plt.imshow(train_images_nonbinary[0, :].reshape((28,28)), cmap='gray')\n",
        "plt.axis('off')\n",
        "plt.show()"
      ]
    },
    {
      "cell_type": "code",
      "execution_count": 5,
      "metadata": {
        "id": "6bg6ovwOL2-e"
      },
      "outputs": [],
      "source": [
        "# Normalizing the images to the range of [0., 1.]\n",
        "train_images = train_images_nonbinary/255.\n",
        "test_images = test_images_nonbinary/255.\n",
        "\n",
        "# Binarization\n",
        "train_images[train_images >= .5] = 1.\n",
        "train_images[train_images < .5] = 0.\n",
        "test_images[test_images >= .5] = 1.\n",
        "test_images[test_images < .5] = 0."
      ]
    },
    {
      "cell_type": "code",
      "execution_count": 6,
      "metadata": {
        "id": "cuAT2j-pL2-e",
        "outputId": "c49ff55c-2a99-42f6-c614-c9d16100d8ed",
        "colab": {
          "base_uri": "https://localhost:8080/",
          "height": 248
        }
      },
      "outputs": [
        {
          "output_type": "display_data",
          "data": {
            "image/png": "[encoded data removed]",
            "text/plain": [
              "<Figure size 432x288 with 1 Axes>"
            ]
          },
          "metadata": {
            "needs_background": "light"
          }
        }
      ],
      "source": [
        "plt.imshow(train_images[0, :].reshape((28,28)), cmap='gray')\n",
        "plt.axis('off')\n",
        "plt.show()"
      ]
    },
    {
      "cell_type": "markdown",
      "metadata": {
        "id": "ClPO6PnDL2-e"
      },
      "source": [
        "**Specifying our graphical model**"
      ]
    },
    {
      "cell_type": "markdown",
      "metadata": {
        "id": "LA50txevL2-f"
      },
      "source": [
        "We will use a **deep latent variable model with a Gaussian prior and a Bernoulli observation model**. This can be written:\n",
        "\n",
        "$$p_{\\boldsymbol{\\theta}}(\\mathbf{x}_1,...,\\mathbf{x}_n) = \\prod_{i=1}^n p(\\mathbf{x}_i|\\mathbf{z}_i)p(\\mathbf{z}_i),$$\n",
        "$$p(\\mathbf{z}_i) = \\mathcal{N}(\\mathbf{z}_i|\\mathbf{0}_d,\\mathbf{I}_d), $$\n",
        "$$p_{\\boldsymbol{\\theta}}(\\mathbf{x}_i|\\mathbf{z}_i) = \\mathcal{B} (\\mathbf{x}_i|\\boldsymbol{\\pi}_{\\boldsymbol{\\theta}}(\\mathbf{z}_i)),$$\n",
        "\n",
        "where $\\boldsymbol{\\pi}_{\\boldsymbol{\\theta}}: \\mathbb{R}^d \\rightarrow \\mathbb{[0,1]}^p$ is a function (called the **decoder**) parametrised by a deep neural net. This neural net will be defined as a keras sequential model."
      ]
    },
    {
      "cell_type": "code",
      "execution_count": 7,
      "metadata": {
        "id": "YkjSCnIqL2-f"
      },
      "outputs": [],
      "source": [
        "d = 10 # dimension of the latent space\n",
        "\n",
        "p_z = tfd.Independent(tfd.Normal(loc = tf.zeros(d, tf.float32), scale = tf.ones(d, tf.float32)),reinterpreted_batch_ndims=1)  # that's the prior"
      ]
    },
    {
      "cell_type": "code",
      "execution_count": 8,
      "metadata": {
        "id": "2XpzbCehL2-f"
      },
      "outputs": [],
      "source": [
        "h = 100 # number of hidden units\n",
        "\n",
        "sigma = \"relu\"\n",
        "\n",
        "decoder = tfk.Sequential([\n",
        "  tfkl.InputLayer(input_shape=[d,]),\n",
        "  tfkl.Dense(h, activation=sigma),\n",
        "  tfkl.Dense(h, activation=sigma),\n",
        "  tfkl.Dense(28*28)\n",
        "])"
      ]
    },
    {
      "cell_type": "markdown",
      "metadata": {
        "id": "5bi8uOUlL2-f"
      },
      "source": [
        "Note that the decoder needs to output probabilities, which can be constrained using a sigmoid final layer. However, it is generally better (i.e. computationnaly more stable) to work with [logits](https://stackoverflow.com/questions/34240703/what-are-logits-what-is-the-difference-between-softmax-and-softmax-cross-entrop) than probabilities, when doing deep learning. For instance, all the distributions of TensorFlow probability or Pytorch distributions that use probabilities as parameters (e.g. [Bernoulli](https://www.tensorflow.org/probability/api_docs/python/tfp/distributions/Bernoulli), [categorical](https://www.tensorflow.org/probability/api_docs/python/tfp/distributions/Categorical) or [binomial](https://www.tensorflow.org/probability/api_docs/python/tfp/distributions/Binomial)) can use $\\texttt{logits}$ or $\\texttt{probs}$ as arguments. It is generally better to use  $\\texttt{logits}$. This is why this keras model for the decoder does not output probabilities, but logits."
      ]
    },
    {
      "cell_type": "markdown",
      "metadata": {
        "id": "4tkROustL2-g"
      },
      "source": [
        "### 1. Ancestral sampling"
      ]
    },
    {
      "cell_type": "markdown",
      "metadata": {
        "id": "4c1gIjHcL2-g"
      },
      "source": [
        "**Implement a function that performs ancestral sampling for this deep latent variable model, and show 5 sampled images from the initialised model.**"
      ]
    },
    {
      "cell_type": "code",
      "execution_count": 9,
      "metadata": {
        "id": "emBsG_sAL2-g"
      },
      "outputs": [],
      "source": [
        "#function that performs ancestral sampling\n",
        "def ancestral_sampling(p_z, decoder,N_sampl):\n",
        "  plt.subplots(1,N_sampl,figsize = (20,8))\n",
        "  for n in range(1,N_sampl+1):\n",
        "    # sample z from the prior\n",
        "    z = p_z.sample()\n",
        "    z = np.reshape(z,(1,10))\n",
        "    # compute parameter for the bernoulli\n",
        "    pi_theta_z = np.array( decoder(z) ).reshape((28,28))\n",
        "\n",
        "    # sample pixel from the bernoulli\n",
        "    pixels_image = tfp.distributions.Bernoulli(logits = pi_theta_z).sample()\n",
        "    plt.subplot(1,N_sampl,n)\n",
        "    plt.imshow(pixels_image, cmap='gray' )\n",
        "    plt.axis('off')\n",
        "\n",
        "  plt.show()"
      ]
    },
    {
      "cell_type": "code",
      "execution_count": null,
      "metadata": {
        "id": "xHdJDpWWL2-g",
        "outputId": "d1d580c2-c80e-4aea-ec16-97ff6d8551ae"
      },
      "outputs": [
        {
          "data": {
            "image/png": "[encoded data removed]",
            "text/plain": [
              "<Figure size 1440x576 with 5 Axes>"
            ]
          },
          "metadata": {
            "needs_background": "light"
          },
          "output_type": "display_data"
        }
      ],
      "source": [
        "ancestral_sampling(p_z, decoder,5)"
      ]
    },
    {
      "cell_type": "markdown",
      "metadata": {
        "id": "jeF-dpKUL2-h"
      },
      "source": [
        "### 2. Training"
      ]
    },
    {
      "cell_type": "markdown",
      "metadata": {
        "id": "i65Zdl7ZL2-h"
      },
      "source": [
        "To be able to train our model, we will need an **encoder** (aka **inference network**), that will allow us to approximate the intractable posterior $p(\\mathbf{z}|\\mathbf{x})$.\n",
        "The approximate posterior is defined as follows\n",
        "$$ q(\\mathbf{z}|\\mathbf{x}) = \\mathcal{N}(\\mathbf{z} | \\mathbf{m}_\\gamma ( \\mathbf{x} ), \\text{Diag}(\\mathbf{s}_\\gamma ( \\mathbf{x} )),\n",
        "$$ \n",
        "where $\\mathbf{x} \\mapsto (\\mathbf{m}_\\gamma ( \\mathbf{x} ), \\mathbf{s}_\\gamma ( \\mathbf{x} ))$ is a function from the data space (i.e. $\\{0,1\\}^p$) to $\\mathbb{R}^d \\times [0, \\infty[^d$ parametrised by a deep neural network. In other words, the encoder outputs the mean and the diagonal of the covariance matrix of the approximate posterior $q(\\mathbf{z}|\\mathbf{x})$."
      ]
    },
    {
      "cell_type": "code",
      "execution_count": 10,
      "metadata": {
        "id": "pNGVGNHoL2-h"
      },
      "outputs": [],
      "source": [
        "encoder = tfk.Sequential([\n",
        "  tfkl.InputLayer(input_shape=[28*28,]),\n",
        "  tfkl.Dense(h, activation=sigma),\n",
        "  tfkl.Dense(h, activation=sigma),\n",
        "  tfkl.Dense(2*d) # 2*d because we need both the mean and the diagonal of the covariance of q(z|x)\n",
        "])"
      ]
    },
    {
      "cell_type": "markdown",
      "metadata": {
        "id": "s4gGs9bNL2-h"
      },
      "source": [
        "The **IWAE objective** is defined as\n",
        "$$\n",
        "\\mathcal{L}_K (\\boldsymbol{\\theta,\\gamma}) = \\sum_{i=1}^n \\mathbb{E}_{\\mathbf{z}_{i1},\\ldots,\\mathbf{z}_{iK} \\sim q_{\\boldsymbol{\\gamma}}(\\mathbf{z}|\\mathbf{x}_i)} \\left[ \\log\\frac{1}{K} \\sum_{k=1}^K \\frac{p_{\\boldsymbol{\\theta}}(\\mathbf{x}_i|\\mathbf{z}_{ik}){p(\\mathbf{z}_{ik})}}{{q_{\\boldsymbol{\\gamma}}(\\mathbf{z}_{ik}|\\mathbf{x}_i)}} \\right]\n",
        "$$"
      ]
    },
    {
      "cell_type": "markdown",
      "metadata": {
        "id": "SqpAT_0RL2-h"
      },
      "source": [
        "**Create a function that computes an unbiased estimate of the IWAE bound, and optimise it to train the model. You are allowed to use TF probability to avoid implementing the reparametrisation trick, and you are allowed to use keras for training. What are the values of the train/test IWAE bounds after training?**"
      ]
    },
    {
      "cell_type": "code",
      "execution_count": 11,
      "metadata": {
        "id": "Oiw2Zni6L2-i"
      },
      "outputs": [],
      "source": [
        "#Function that compute the IWAE bound\n",
        "#@tf.function\n",
        "def compute_IWAE(image_batch,K): #batch_size):\n",
        "\t\"\"\"Args : K = order of the IWAE bound\n",
        "\t   Return : IWAE bound \n",
        "\t\"\"\"\n",
        "\tIWAE = 0\n",
        "\tfor im,_ in image_batch:\n",
        "\t\timage = tf.reshape(im,(1,28*28))\n",
        "\t\t#compute output of the encoder\n",
        "\t\tencoder_out = encoder(image)\n",
        "\n",
        "\t\t#get mu_gamma and diag(S_gamma) from the decoder_out of size 2*d\n",
        "\t\tmu_gamma = encoder_out[0,:d]\n",
        "\t\tsigma_gamma = tf.exp(encoder_out[0,d:]) #we take exp to have positive numbers\n",
        "\t\n",
        "\t\t# the approximate posterior\n",
        "\t\tq_gamma = tfd.Independent(tfd.Normal(loc = mu_gamma, scale = sigma_gamma),reinterpreted_batch_ndims=1) \n",
        "\n",
        "\t\t#we sample z from the approximate posterior\n",
        "\t\tz_sampl = q_gamma.sample(K)\n",
        "\n",
        "\t\t#we compute output of z_sampl through the decoder\n",
        "\t\tz_sampl = tf.reshape(z_sampl,(K,d))\n",
        "\t\tdecoder_out = decoder(z_sampl)\n",
        "\t\n",
        "\t\t#The proba of x knowing z follows\n",
        "\t\tp_theta = tfd.Independent(tfd.Bernoulli(logits = decoder_out), reinterpreted_batch_ndims = 1)\n",
        "\n",
        "\t\t#IWAE bound\n",
        "\t\tIWAE += tf.reduce_mean(tfp.math.reduce_weighted_logsumexp(p_theta.log_prob(image) + p_z.log_prob(z_sampl) - q_gamma.log_prob(z_sampl), axis=0))\n",
        "\n",
        "\treturn IWAE"
      ]
    },
    {
      "cell_type": "code",
      "execution_count": 12,
      "metadata": {
        "id": "ncJPFcFIL2-i"
      },
      "outputs": [],
      "source": [
        "#function that makes batches from the dataset \n",
        "def create_dataset(images,y,batch_size):\n",
        "\t\"\"\"return Set that contains only a batch of images\"\"\"\n",
        "\tind_batch = np.random.choice(np.arange(images.shape[0]),batch_size,False).astype(int)\n",
        "\timage_batch = images[ind_batch]\n",
        "\ty_nump = y_train.numpy()[ind_batch]\n",
        "\ty_batch = tf.constant(y_nump)\n",
        "\tSet = tf.data.Dataset.from_tensor_slices((image_batch,y_batch))\n",
        "\tSet = Set.shuffle(batch_size) #6000 images\n",
        "\treturn Set"
      ]
    },
    {
      "cell_type": "code",
      "execution_count": 13,
      "metadata": {
        "id": "whYWNGuPL2-i"
      },
      "outputs": [],
      "source": [
        "#function that optimise IWAE bound to train the model\n",
        "def train_model(training_images,training_y,K,batch_size,Niter):\n",
        "    model_params = list(encoder.trainable_variables) + list(decoder.trainable_variables)\n",
        "    optimizer = tf.keras.optimizers.Adam(0.001)\n",
        "    for t in range(Niter):\n",
        "        #We create the batch\n",
        "        batch_set = create_dataset(training_images,training_y,batch_size)\n",
        "        with tf.GradientTape() as tape:\n",
        "            #we compute IWAE bound \n",
        "            IWAE = compute_IWAE(batch_set,K)\n",
        "            loss = -IWAE\n",
        "        #optimisation step\n",
        "        grad = tape.gradient(loss,model_params)\n",
        "        optimizer.apply_gradients(zip(grad,model_params))\n",
        "        print('------','Epoch ',t+1,'------')"
      ]
    },
    {
      "cell_type": "code",
      "execution_count": null,
      "metadata": {
        "id": "NPXCQ3UJL2-j",
        "outputId": "aa5c8995-dc43-4518-bf50-abce650e414a"
      },
      "outputs": [
        {
          "name": "stdout",
          "output_type": "stream",
          "text": [
            "------ Epoch  1 ------\n",
            "------ Epoch  2 ------\n",
            "------ Epoch  3 ------\n",
            "------ Epoch  4 ------\n",
            "------ Epoch  5 ------\n",
            "------ Epoch  6 ------\n",
            "------ Epoch  7 ------\n",
            "------ Epoch  8 ------\n",
            "------ Epoch  9 ------\n",
            "------ Epoch  10 ------\n",
            "------ Epoch  11 ------\n",
            "------ Epoch  12 ------\n",
            "------ Epoch  13 ------\n",
            "------ Epoch  14 ------\n",
            "------ Epoch  15 ------\n",
            "------ Epoch  16 ------\n",
            "------ Epoch  17 ------\n",
            "------ Epoch  18 ------\n",
            "------ Epoch  19 ------\n",
            "------ Epoch  20 ------\n",
            "------ Epoch  21 ------\n",
            "------ Epoch  22 ------\n",
            "------ Epoch  23 ------\n",
            "------ Epoch  24 ------\n",
            "------ Epoch  25 ------\n",
            "------ Epoch  26 ------\n",
            "------ Epoch  27 ------\n",
            "------ Epoch  28 ------\n",
            "------ Epoch  29 ------\n",
            "------ Epoch  30 ------\n",
            "------ Epoch  31 ------\n",
            "------ Epoch  32 ------\n",
            "------ Epoch  33 ------\n",
            "------ Epoch  34 ------\n",
            "------ Epoch  35 ------\n",
            "------ Epoch  36 ------\n",
            "------ Epoch  37 ------\n",
            "------ Epoch  38 ------\n",
            "------ Epoch  39 ------\n",
            "------ Epoch  40 ------\n",
            "------ Epoch  41 ------\n",
            "------ Epoch  42 ------\n",
            "------ Epoch  43 ------\n",
            "------ Epoch  44 ------\n",
            "------ Epoch  45 ------\n",
            "------ Epoch  46 ------\n",
            "------ Epoch  47 ------\n",
            "------ Epoch  48 ------\n",
            "------ Epoch  49 ------\n",
            "------ Epoch  50 ------\n",
            "------ Epoch  51 ------\n",
            "------ Epoch  52 ------\n",
            "------ Epoch  53 ------\n",
            "------ Epoch  54 ------\n",
            "------ Epoch  55 ------\n",
            "------ Epoch  56 ------\n",
            "------ Epoch  57 ------\n",
            "------ Epoch  58 ------\n",
            "------ Epoch  59 ------\n",
            "------ Epoch  60 ------\n",
            "------ Epoch  61 ------\n",
            "------ Epoch  62 ------\n",
            "------ Epoch  63 ------\n",
            "------ Epoch  64 ------\n",
            "------ Epoch  65 ------\n",
            "------ Epoch  66 ------\n",
            "------ Epoch  67 ------\n",
            "------ Epoch  68 ------\n",
            "------ Epoch  69 ------\n",
            "------ Epoch  70 ------\n",
            "------ Epoch  71 ------\n",
            "------ Epoch  72 ------\n",
            "------ Epoch  73 ------\n",
            "------ Epoch  74 ------\n",
            "------ Epoch  75 ------\n",
            "------ Epoch  76 ------\n",
            "------ Epoch  77 ------\n",
            "------ Epoch  78 ------\n",
            "------ Epoch  79 ------\n",
            "------ Epoch  80 ------\n",
            "------ Epoch  81 ------\n",
            "------ Epoch  82 ------\n",
            "------ Epoch  83 ------\n",
            "------ Epoch  84 ------\n",
            "------ Epoch  85 ------\n",
            "------ Epoch  86 ------\n",
            "------ Epoch  87 ------\n",
            "------ Epoch  88 ------\n",
            "------ Epoch  89 ------\n",
            "------ Epoch  90 ------\n",
            "------ Epoch  91 ------\n",
            "------ Epoch  92 ------\n",
            "------ Epoch  93 ------\n",
            "------ Epoch  94 ------\n",
            "------ Epoch  95 ------\n",
            "------ Epoch  96 ------\n",
            "------ Epoch  97 ------\n",
            "------ Epoch  98 ------\n",
            "------ Epoch  99 ------\n",
            "------ Epoch  100 ------\n"
          ]
        }
      ],
      "source": [
        "##### PARAMETERS #########\n",
        "K = 1000 #With a high K we obtain better results\n",
        "Nepoch = 100 #number of epochs\n",
        "batch_size = 100 #size of batches\n",
        "#########################\n",
        "\n",
        "train_model(train_images,y_train,K,batch_size,Nepoch)"
      ]
    },
    {
      "cell_type": "markdown",
      "metadata": {
        "id": "wLEq1gu4L2-j"
      },
      "source": [
        "### 3. Sampling"
      ]
    },
    {
      "cell_type": "code",
      "execution_count": null,
      "metadata": {
        "id": "4RHQTU9cL2-j"
      },
      "outputs": [],
      "source": [
        "#encoder.save('model_MNIST.h5')"
      ]
    },
    {
      "cell_type": "markdown",
      "metadata": {
        "id": "z-fS8sHnL2-j"
      },
      "source": [
        "**Show a few samples from the model after training.**"
      ]
    },
    {
      "cell_type": "code",
      "execution_count": null,
      "metadata": {
        "id": "F8otxzrfL2-k",
        "outputId": "851e4346-3e60-431f-acff-98939e3402d6"
      },
      "outputs": [
        {
          "data": {
            "image/png": "[encoded data removed]",
            "text/plain": [
              "<Figure size 1440x576 with 20 Axes>"
            ]
          },
          "metadata": {
            "needs_background": "light"
          },
          "output_type": "display_data"
        },
        {
          "data": {
            "image/png": "[encoded data removed]",
            "text/plain": [
              "<Figure size 1440x576 with 20 Axes>"
            ]
          },
          "metadata": {
            "needs_background": "light"
          },
          "output_type": "display_data"
        },
        {
          "data": {
            "image/png": "[encoded data removed]",
            "text/plain": [
              "<Figure size 1440x576 with 20 Axes>"
            ]
          },
          "metadata": {
            "needs_background": "light"
          },
          "output_type": "display_data"
        }
      ],
      "source": [
        "ancestral_sampling(p_z, decoder,20)\n",
        "ancestral_sampling(p_z, decoder,20)\n",
        "ancestral_sampling(p_z, decoder,20)"
      ]
    },
    {
      "cell_type": "markdown",
      "metadata": {
        "id": "7YwqWDY9L2-k"
      },
      "source": [
        "The numbers obtained are not all really readable but the result is still satisfactory if we compare to the samples generated before the training of the model."
      ]
    },
    {
      "cell_type": "markdown",
      "metadata": {
        "id": "wM4Dz_azL2-k"
      },
      "source": [
        "### 4. Importance sampling and visualisation"
      ]
    },
    {
      "cell_type": "code",
      "source": [
        "import tensorflow as tf\n",
        "import matplotlib.pyplot as plt\n",
        "import tensorflow_probability as tfp"
      ],
      "metadata": {
        "id": "c8f00C68pIu_"
      },
      "execution_count": 27,
      "outputs": []
    },
    {
      "cell_type": "code",
      "execution_count": 28,
      "metadata": {
        "id": "_9UMyspwL2-k"
      },
      "outputs": [],
      "source": [
        "import numpy as np\n",
        "batch_size = 30\n",
        "d = 2\n",
        "Train_set = create_dataset(train_images,y_train,batch_size) #create_dataset(train_images,y_train,batch_size)"
      ]
    },
    {
      "cell_type": "code",
      "source": [
        "def create_dataset(images,y,batch_size):\n",
        "\tSet = tf.data.Dataset.from_tensor_slices((images,y))\n",
        "\tSet = Set.shuffle(60000) #6000 images\n",
        "\tSet = Set.batch(batch_size)\n",
        "\treturn Set"
      ],
      "metadata": {
        "id": "6gzkcjJnnTul"
      },
      "execution_count": 29,
      "outputs": []
    },
    {
      "cell_type": "code",
      "source": [
        "mu = []\n",
        "for image_batch,_ in Train_set :\n",
        "  image = tf.reshape(image_batch[0,:],(1,28*28))\n",
        "  encoder_out = encoder(image)\n",
        "  mu_gamma = encoder_out[0,:d]\n",
        "  sigma_gamma = tf.exp(encoder_out[0,d:])\n",
        "  mu.append(mu_gamma)\n"
      ],
      "metadata": {
        "id": "r5-1aIrTnVI8"
      },
      "execution_count": 30,
      "outputs": []
    },
    {
      "cell_type": "code",
      "source": [
        "L = len(mu)\n",
        "x = []\n",
        "y = []\n",
        "for i in range(L):\n",
        "  x.append(np.array(mu[i][0]))\n",
        "  y.append(np.array(mu[i][1]))"
      ],
      "metadata": {
        "id": "FyqCwSzlnXqz"
      },
      "execution_count": 31,
      "outputs": []
    },
    {
      "cell_type": "code",
      "source": [
        "plt.scatter(x,y,c = 'navy')\n",
        "plt.show()"
      ],
      "metadata": {
        "colab": {
          "base_uri": "https://localhost:8080/",
          "height": 265
        },
        "id": "9PfQH_-npPPC",
        "outputId": "e127b1b8-159a-429a-ba59-88fd038067ae"
      },
      "execution_count": 32,
      "outputs": [
        {
          "output_type": "display_data",
          "data": {
            "image/png": "[encoded data removed]",
            "text/plain": [
              "<Figure size 432x288 with 1 Axes>"
            ]
          },
          "metadata": {
            "needs_background": "light"
          }
        }
      ]
    },
    {
      "cell_type": "code",
      "source": [
        ""
      ],
      "metadata": {
        "id": "ZmmaOnfqpQYZ"
      },
      "execution_count": null,
      "outputs": []
    }
  ],
  "metadata": {
    "interpreter": {
      "hash": "b0fa6594d8f4cbf19f97940f81e996739fb7646882a419484c72d19e05852a7e"
    },
    "kernelspec": {
      "display_name": "Python 3.9.6 64-bit",
      "language": "python",
      "name": "python3"
    },
    "language_info": {
      "codemirror_mode": {
        "name": "ipython",
        "version": 3
      },
      "file_extension": ".py",
      "mimetype": "text/x-python",
      "name": "python",
      "nbconvert_exporter": "python",
      "pygments_lexer": "ipython3",
      "version": "3.9.6"
    },
    "orig_nbformat": 4,
    "colab": {
      "name": "REALLLL_HW2_CHAUVEAU_SOTO.ipynb",
      "provenance": [],
      "collapsed_sections": []
    }
  },
  "nbformat": 4,
  "nbformat_minor": 0
}