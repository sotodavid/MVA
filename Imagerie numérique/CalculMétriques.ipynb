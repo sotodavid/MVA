{
 "cells": [
  {
   "cell_type": "markdown",
   "metadata": {
    "id": "jKyHSxN_9zb9"
   },
   "source": [
    "# Calcul des métriques PSNR SSIM & LPIPS"
   ]
  },
  {
   "cell_type": "markdown",
   "metadata": {
    "id": "Tm5U835uALmI"
   },
   "source": [
    "Nous avons créé et utilisé ce notebook pour le calcul des métriques dans notre projet."
   ]
  },
  {
   "cell_type": "markdown",
   "metadata": {
    "id": "PU53acWbEDHu"
   },
   "source": [
    "# Calcul du PSNR"
   ]
  },
  {
   "cell_type": "code",
   "execution_count": 54,
   "metadata": {
    "id": "kBucQNLPD1pd"
   },
   "outputs": [],
   "source": [
    "import numpy as np\n",
    "from skimage import io\n",
    "import tensorflow as tf\n",
    "import cv2"
   ]
  },
  {
   "cell_type": "code",
   "execution_count": 55,
   "metadata": {
    "colab": {
     "base_uri": "https://localhost:8080/"
    },
    "id": "qCsCxJP5X6Jp",
    "outputId": "110f460e-7c39-4dbe-b894-84d09c426bb5"
   },
   "outputs": [
    {
     "name": "stdout",
     "output_type": "stream",
     "text": [
      "Mounted at /content/drive/\n"
     ]
    }
   ],
   "source": [
    "import os\n",
    "from google.colab import drive\n",
    "drive.mount('/content/drive/', force_remount=True)\n",
    "os.chdir('/content/drive/My Drive/Dataset/')\n"
   ]
  },
  {
   "cell_type": "markdown",
   "metadata": {
    "id": "hoEHrX5eAu72"
   },
   "source": [
    "N.B. : nous avons stocké tout nos résultats qualitatifs dans un drive. De cette manière, lorsque nous voulons évaluer quantitativement un résultats spécifique nous avons juste à indiquer son chemin d'accès."
   ]
  },
  {
   "cell_type": "markdown",
   "metadata": {
    "id": "X8_GlGkEMSsr"
   },
   "source": [
    "# PSNR"
   ]
  },
  {
   "cell_type": "markdown",
   "metadata": {
    "id": "rzz2ZH9hpFZE"
   },
   "source": [
    "**Le code qui suit permet de calculer la moyenne des PSNR (pour les résultats qualitatifs obtenus losque nous avons fixé le seuil à 0.7)**"
   ]
  },
  {
   "cell_type": "code",
   "execution_count": 56,
   "metadata": {
    "id": "-GZ6M9BG-rVy"
   },
   "outputs": [],
   "source": [
    "img_name_list = ['0','1','2','3','4','5','6','7','8','9','10','11','12','13','14','15','16','17','18','19','20','21','22','23','24','25','26','27','28','29','30']\n",
    "N = 31 # la taille du dataset\n"
   ]
  },
  {
   "cell_type": "code",
   "execution_count": 59,
   "metadata": {
    "colab": {
     "base_uri": "https://localhost:8080/"
    },
    "id": "dbte9w5yY5HJ",
    "outputId": "5f56a52f-95e2-43c2-f688-35a8a66d8589"
   },
   "outputs": [
    {
     "name": "stdout",
     "output_type": "stream",
     "text": [
      "PSNR moyen : 21.574555479862262\n"
     ]
    }
   ],
   "source": [
    "\n",
    "sum = 0\n",
    "for i in range(N) :\n",
    "  show_index = i\n",
    "  im1 = cv2.imread('/content/drive/MyDrive/Dataset/Dataset - Original/'+img_name_list[show_index]+'.jpg') # image d'origine\n",
    "  im2 = cv2.imread('/content/drive/MyDrive/Dataset/Dataset - Results/'+img_name_list[show_index]+'.png') # image output\n",
    "  # Pour chaque image du dataset, on calcule le PSNR entre l'image d'origine et l'image output\n",
    "  psnr = cv2.PSNR(im1, im2)\n",
    "  sum = sum + psnr\n",
    "\n",
    "# On peut enfin calculer la moyenne\n",
    "mean = sum/N\n",
    "\n",
    "print(\"PSNR moyen :\", mean)\n",
    "  "
   ]
  },
  {
   "cell_type": "markdown",
   "metadata": {
    "id": "kWW_GEFwB7aT"
   },
   "source": [
    "**Voyons un autre exemple de calcul du PSNR. Nous calculons la moyenne des PSNR sur les résultats obtenus pour un seuil de 0.9**"
   ]
  },
  {
   "cell_type": "markdown",
   "metadata": {
    "id": "qGArQ9JFCk_z"
   },
   "source": [
    "Nous avons juste à reprendre le code précédent et à modifier le chemin d'accès, comme suit :"
   ]
  },
  {
   "cell_type": "code",
   "execution_count": 60,
   "metadata": {
    "colab": {
     "base_uri": "https://localhost:8080/"
    },
    "id": "7sBW7nWoB6uW",
    "outputId": "9d11b667-f7b6-4bb9-ee76-abd8ede55ea8"
   },
   "outputs": [
    {
     "name": "stdout",
     "output_type": "stream",
     "text": [
      "PSNR moyen : 21.58088608677945\n"
     ]
    }
   ],
   "source": [
    "sum = 0\n",
    "for i in range(N) :\n",
    "  show_index = i\n",
    "  im1 = cv2.imread('/content/drive/MyDrive/Dataset/Dataset - Original/'+img_name_list[show_index]+'.jpg') # image d'origine\n",
    "  im2 = cv2.imread('/content/drive/MyDrive/Dataset/Results - Th - 0.9/'+img_name_list[show_index]+'.png') # accès au résultats qui nous intéresse\n",
    "  # Pour chaque image du dataset, on calcule le PSNR entre l'image d'origine et l'image output\n",
    "  psnr = cv2.PSNR(im1, im2)\n",
    "  sum = sum + psnr\n",
    "\n",
    "# On peut enfin calculer la moyenne\n",
    "mean = sum/N\n",
    "\n",
    "print(\"PSNR moyen :\", mean)"
   ]
  },
  {
   "cell_type": "markdown",
   "metadata": {
    "id": "x9fcs0P1DIVb"
   },
   "source": [
    "C'est ainsi que nous calculons les moyennes des PSNR pour chaque résultats du projet."
   ]
  },
  {
   "cell_type": "markdown",
   "metadata": {
    "id": "Ko_Cepkis2xS"
   },
   "source": [
    "# Calcul du SSIM"
   ]
  },
  {
   "cell_type": "markdown",
   "metadata": {
    "id": "v0azAAE5tiA_"
   },
   "source": [
    "# SSIM"
   ]
  },
  {
   "cell_type": "code",
   "execution_count": null,
   "metadata": {
    "id": "ZbgycWn7EeBn"
   },
   "outputs": [],
   "source": [
    "#from SSIM_PIL import compare_ssim\n",
    "from PIL import Image"
   ]
  },
  {
   "cell_type": "markdown",
   "metadata": {
    "id": "onK7MIxZEHvy"
   },
   "source": [
    "**Le code qui suit permet de calculer la moyenne des SSIM**"
   ]
  },
  {
   "cell_type": "code",
   "execution_count": 62,
   "metadata": {
    "colab": {
     "base_uri": "https://localhost:8080/"
    },
    "id": "xD0dQgvjtopT",
    "outputId": "49ca5308-7607-4caa-b4a3-bc2c04b8fc13"
   },
   "outputs": [
    {
     "name": "stdout",
     "output_type": "stream",
     "text": [
      "SSIM-mean : 0.9097126639434312\n"
     ]
    }
   ],
   "source": [
    "sum = 0\n",
    "for i in range(N) :\n",
    "  show_index = i\n",
    "  imageA = cv2.imread('/content/drive/MyDrive/Dataset/Dataset - Original/'+img_name_list[show_index]+'.jpg') # images d'origine\n",
    "  imageB = cv2.imread('/content/drive/MyDrive/Dataset/Dataset - Results/'+img_name_list[show_index]+'.png') # image output qui nous intéresse\n",
    "  # Pour chaque image du dataset, on calcule le SSIM entre l'image d'origine et l'image output\n",
    "  (score, diff) = compare_ssim(imageA, imageB, full=True, multichannel=True)\n",
    "  ssim = score\n",
    "  sum += ssim\n",
    "\n",
    "mean = sum/N\n",
    "\n",
    "print(\"SSIM-mean :\", mean)"
   ]
  },
  {
   "cell_type": "markdown",
   "metadata": {
    "id": "6hCR7bF7FD7_"
   },
   "source": [
    "Tout comme le calcul du PSNR, pour calculer la moyenne des SSIM pour des résultats spécifiques il suffit d'indiquer le chemin d'accès de ces derniers."
   ]
  },
  {
   "cell_type": "markdown",
   "metadata": {
    "id": "Yg5uAKICvTMc"
   },
   "source": [
    "# Calcul des LPIPS"
   ]
  },
  {
   "cell_type": "markdown",
   "metadata": {
    "id": "JZVatqonxDkL"
   },
   "source": [
    "**On installe l'environnement**"
   ]
  },
  {
   "cell_type": "code",
   "execution_count": 65,
   "metadata": {
    "colab": {
     "base_uri": "https://localhost:8080/"
    },
    "id": "JSoGA1Yww8id",
    "outputId": "61fc426f-429d-428a-9d06-34195cd10d09"
   },
   "outputs": [
    {
     "name": "stdout",
     "output_type": "stream",
     "text": [
      "fatal: destination path 'PerceptualSimilarity' already exists and is not an empty directory.\n"
     ]
    }
   ],
   "source": [
    "!git clone https://github.com/richzhang/PerceptualSimilarity.git"
   ]
  },
  {
   "cell_type": "code",
   "execution_count": 66,
   "metadata": {
    "colab": {
     "base_uri": "https://localhost:8080/"
    },
    "id": "UgMdWxgBxJo2",
    "outputId": "3ebcd1f6-3646-454d-db39-6bd50af38d55"
   },
   "outputs": [
    {
     "name": "stdout",
     "output_type": "stream",
     "text": [
      "/content/drive/MyDrive/Dataset/PerceptualSimilarity\n"
     ]
    }
   ],
   "source": [
    "cd PerceptualSimilarity"
   ]
  },
  {
   "cell_type": "code",
   "execution_count": null,
   "metadata": {
    "id": "_Ib4UMnXxNrH"
   },
   "outputs": [],
   "source": [
    "!pip install -r requirements.txt"
   ]
  },
  {
   "cell_type": "code",
   "execution_count": 68,
   "metadata": {
    "colab": {
     "base_uri": "https://localhost:8080/"
    },
    "id": "KiBzEQL_xOHw",
    "outputId": "0d5b11e1-bd44-41f1-85e7-c0cd7c2c8a07"
   },
   "outputs": [
    {
     "name": "stdout",
     "output_type": "stream",
     "text": [
      "Requirement already satisfied: lpips in /usr/local/lib/python3.7/dist-packages (0.1.4)\n",
      "Requirement already satisfied: torch>=0.4.0 in /usr/local/lib/python3.7/dist-packages (from lpips) (1.10.0+cu111)\n",
      "Requirement already satisfied: torchvision>=0.2.1 in /usr/local/lib/python3.7/dist-packages (from lpips) (0.11.1+cu111)\n",
      "Requirement already satisfied: tqdm>=4.28.1 in /usr/local/lib/python3.7/dist-packages (from lpips) (4.62.3)\n",
      "Requirement already satisfied: scipy>=1.0.1 in /usr/local/lib/python3.7/dist-packages (from lpips) (1.4.1)\n",
      "Requirement already satisfied: numpy>=1.14.3 in /usr/local/lib/python3.7/dist-packages (from lpips) (1.19.5)\n",
      "Requirement already satisfied: typing-extensions in /usr/local/lib/python3.7/dist-packages (from torch>=0.4.0->lpips) (3.10.0.2)\n",
      "Requirement already satisfied: pillow!=8.3.0,>=5.3.0 in /usr/local/lib/python3.7/dist-packages (from torchvision>=0.2.1->lpips) (7.1.2)\n"
     ]
    }
   ],
   "source": [
    "!pip install lpips"
   ]
  },
  {
   "cell_type": "code",
   "execution_count": 69,
   "metadata": {
    "id": "1gZsXH9axZWC"
   },
   "outputs": [],
   "source": [
    "from torchvision import transforms\n",
    "from PIL import Image\n",
    "import lpips\n",
    "import torch"
   ]
  },
  {
   "cell_type": "code",
   "execution_count": 70,
   "metadata": {
    "colab": {
     "base_uri": "https://localhost:8080/"
    },
    "id": "DaownbfHxdeo",
    "outputId": "9729da1e-d86d-4681-9a09-c57b77f50c3a"
   },
   "outputs": [
    {
     "name": "stdout",
     "output_type": "stream",
     "text": [
      "Setting up [LPIPS] perceptual loss: trunk [alex], v[0.1], spatial [off]\n",
      "Loading model from: /content/drive/MyDrive/Dataset/PerceptualSimilarity/lpips/weights/v0.1/alex.pth\n"
     ]
    }
   ],
   "source": [
    "loss_fn_alex = lpips.LPIPS(net='alex') # Nous utilisons la fonction loss_fn_alex pour le calcul des LPIPS"
   ]
  },
  {
   "cell_type": "markdown",
   "metadata": {
    "id": "UhDKb2aHzNUl"
   },
   "source": [
    "# LPIPS"
   ]
  },
  {
   "cell_type": "markdown",
   "metadata": {
    "id": "UahGxD2cF-AW"
   },
   "source": [
    "**Le code qui suit permet de calculer la moyenne des LPIPS.**"
   ]
  },
  {
   "cell_type": "markdown",
   "metadata": {
    "id": "yFNcqk_5GJA4"
   },
   "source": [
    "Moyenne des LPIPS pour les résultats obtenus pour un seuil de 0.7"
   ]
  },
  {
   "cell_type": "code",
   "execution_count": 71,
   "metadata": {
    "colab": {
     "base_uri": "https://localhost:8080/"
    },
    "id": "0LXtzkTNfxWQ",
    "outputId": "153d6b2e-5b5a-41ee-aa29-7561a6d1c08e"
   },
   "outputs": [
    {
     "name": "stdout",
     "output_type": "stream",
     "text": [
      "LPIPS-mean : tensor([[[[0.1272]]]], grad_fn=<DivBackward0>)\n"
     ]
    }
   ],
   "source": [
    "sum = 0\n",
    "for i in range(N) :\n",
    "  # We load the images\n",
    "  show_index = i\n",
    "  im1 = cv2.imread('/content/drive/MyDrive/Dataset/Dataset - Original/'+img_name_list[show_index]+'.jpg')\n",
    "  im2 = cv2.imread('/content/drive/MyDrive/Dataset/Dataset - Results/'+img_name_list[show_index]+'.png')\n",
    "  # We transform the images to tensor objects for the LPIPS calculation\n",
    "  convert = transforms.ToTensor() \n",
    "  im1 = convert(im1)\n",
    "  im2 = convert(im2)\n",
    "  # Now we can calculate the LPIPS, as follows :\n",
    "  LPIPS = loss_fn_alex(im1, im2)\n",
    "  sum += LPIPS\n",
    "\n",
    "# We compute the mean :\n",
    "mean = sum/N\n",
    "\n",
    "print(\"LPIPS-mean :\", mean)"
   ]
  },
  {
   "cell_type": "markdown",
   "metadata": {
    "id": "xwjnh8CwHmPx"
   },
   "source": [
    "Tout comme les deux premières partie du code, pour calculer la moyenne du LPIPS pour des résultats spécifiques il suffit de modifier le chemin d'accès. "
   ]
  },
  {
   "cell_type": "markdown",
   "metadata": {
    "id": "adPBJvGGGbBt"
   },
   "source": [
    "C'est ainsi que nous calculons les métriques. "
   ]
  }
 ],
 "metadata": {
  "colab": {
   "collapsed_sections": [],
   "name": "Metrics_Projet_ImNum.ipynb",
   "provenance": []
  },
  "kernelspec": {
   "display_name": "Python 3 (ipykernel)",
   "language": "python",
   "name": "python3"
  },
  "language_info": {
   "codemirror_mode": {
    "name": "ipython",
    "version": 3
   },
   "file_extension": ".py",
   "mimetype": "text/x-python",
   "name": "python",
   "nbconvert_exporter": "python",
   "pygments_lexer": "ipython3",
   "version": "3.9.7"
  }
 },
 "nbformat": 4,
 "nbformat_minor": 1
}
