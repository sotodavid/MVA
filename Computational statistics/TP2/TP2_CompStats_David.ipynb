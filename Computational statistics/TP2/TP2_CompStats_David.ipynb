{
  "nbformat": 4,
  "nbformat_minor": 0,
  "metadata": {
    "colab": {
      "name": "TP2_CompStats_David.ipynb",
      "provenance": [],
      "collapsed_sections": []
    },
    "kernelspec": {
      "name": "python3",
      "display_name": "Python 3"
    },
    "language_info": {
      "name": "python"
    }
  },
  "cells": [
    {
      "cell_type": "markdown",
      "metadata": {
        "id": "X60XWESL4ewt"
      },
      "source": [
        "# TP2 CompStats\n",
        "\n",
        "David Soto"
      ]
    },
    {
      "cell_type": "markdown",
      "metadata": {
        "id": "r7zdgq-wwqBK"
      },
      "source": [
        "# Exercise 1"
      ]
    },
    {
      "cell_type": "markdown",
      "metadata": {
        "id": "mQjAlFakwu6D"
      },
      "source": [
        "**Question 1**"
      ]
    },
    {
      "cell_type": "markdown",
      "metadata": {
        "id": "YrGy59l54cau"
      },
      "source": [
        "Afin de générer une variable aléatoire $X$ avec la distribution discrète demandée, on commence par définir $ \\forall i = {1,...,n} $: $$ S_i = \\sum_{j = 1}^i p_j $$\n",
        "\n",
        "On pose $U \\sim \\mathcal{Uniform}([0,1[)$. On a alors par définition de $U$ que $ \\forall i = {2,...,n} $ : $$ \\mathbb{P} \\left( U \\in [S_{i-1}, S_i[ \\right) = S_i - S_{i-1} = p_i = \\mathbb{P}(X = x_i) $$\n",
        "\n",
        "Finalement comme les $[S_{i−1}​,S_i​[$ forment une partition de $[0,1[$, on peut poser : $$ X = \\sum_{i = 1}^n x_i \\unicode{x1D7D9}_{[S_{i-1}, S_i[}(U) $$\n",
        "\n",
        "Ce qui génère bien une variable aléatoire avec la distribution discrète demandée."
      ]
    },
    {
      "cell_type": "markdown",
      "metadata": {
        "id": "Bw1Pq3tTEouc"
      },
      "source": [
        "**Question 2**"
      ]
    },
    {
      "cell_type": "code",
      "metadata": {
        "id": "UIKlx7S_w0CX"
      },
      "source": [
        "import numpy as np\n",
        "import matplotlib.pyplot as plt\n",
        "import pandas as pd\n",
        "from matplotlib.patches import Ellipse\n",
        "\n",
        "def S(p):\n",
        "\t# La fonction prend en entrée le vecteur p contenant les probabilités pi\n",
        "\tS = [0]\n",
        "\tn = len(p)\n",
        "\tfor pi in p:\n",
        "\t\tS.append(S[-1]+pi)\n",
        "\tS = np.array(S)\n",
        "\treturn S\n",
        " \n",
        "\n",
        "def generate(S, n):\n",
        "\t# Fonction qui génère une suite iid \n",
        "\tU = sorted(np.random.rand(n)) # returns a sorted vector of size n containing random values in [0,1]\n",
        "\tX = [] # vecteur sample\n",
        "\ti = 1\n",
        "\tfor u in U:\n",
        "\t\twhile u >= S[i]:\n",
        "\t\t\ti += 1\n",
        "\t\tX.append(i)\n",
        "\tX = np.array(X)\n",
        "\tnp.random.shuffle(X)\n",
        "\treturn X\n"
      ],
      "execution_count": null,
      "outputs": []
    },
    {
      "cell_type": "code",
      "metadata": {
        "colab": {
          "base_uri": "https://localhost:8080/"
        },
        "id": "EP6Z8Ib_p0En",
        "outputId": "abd060d9-bd7a-4a7d-a5a6-ce3d8908fbd9"
      },
      "source": [
        "# Exemple pour un échantillon de taille 10\n",
        "n = 10\n",
        "p = np.random.rand(n) # returns a vector of size n containing random values in [0,1]\n",
        "p /= sum(p) # normalizes the values in p so that we obtain a probability distribution (pi)\n",
        "S = S(p)\n",
        "N = 10\n",
        "X = generate(S, N)\n",
        "X"
      ],
      "execution_count": null,
      "outputs": [
        {
          "output_type": "execute_result",
          "data": {
            "text/plain": [
              "array([ 4,  4,  1,  1, 10,  4, 10,  4,  4, 10])"
            ]
          },
          "metadata": {},
          "execution_count": 40
        }
      ]
    },
    {
      "cell_type": "markdown",
      "metadata": {
        "id": "rL64-W1-EuZY"
      },
      "source": [
        "**Question 3**"
      ]
    },
    {
      "cell_type": "code",
      "metadata": {
        "colab": {
          "base_uri": "https://localhost:8080/",
          "height": 513
        },
        "id": "ym5JGYff9U1r",
        "outputId": "50e1c622-c979-4e1f-f779-c211c9b0543c"
      },
      "source": [
        "\n",
        "# Parameters \n",
        "n = 10 # size of the vector of probability distribution\n",
        "N = 1000 # size of the sample\n",
        "##########################\n",
        "\n",
        "def S(p):\n",
        "\t# La fonction prend en entrée le vecteur p contenant les probabilités pi\n",
        "\tS = [0]\n",
        "\tn = len(p)\n",
        "\tfor pi in p:\n",
        "\t\tS.append(S[-1]+pi)\n",
        "\tS = np.array(S)\n",
        "\treturn S\n",
        "\n",
        "\n",
        "p = np.random.rand(n) # returns a vector of size n containing random values in [0,1]\n",
        "p /= sum(p) # normalizes the values in p so that we obtain a probability distribution (pi)\n",
        "S = S(p)\n",
        "X = generate(S, N)\n",
        "\n",
        "plt.figure()\n",
        "plt.bar([1+i for i in range(n)], N*p, color='r', alpha=0.5, label='True distribution')\n",
        "plt.legend()\n",
        "plt.show()\n",
        "plt.figure()\n",
        "plt.hist(X, [0.5+i for i in range(n+1)], rwidth=0.7, color='b', alpha=0.5, label='Sample histogram')\n",
        "plt.legend()\n",
        "plt.show()"
      ],
      "execution_count": null,
      "outputs": [
        {
          "output_type": "display_data",
          "data": {
            "image/png": "[encoded data removed]",
            "text/plain": [
              "<Figure size 432x288 with 1 Axes>"
            ]
          },
          "metadata": {
            "needs_background": "light"
          }
        },
        {
          "output_type": "display_data",
          "data": {
            "image/png": "[encoded data removed]",
            "text/plain": [
              "<Figure size 432x288 with 1 Axes>"
            ]
          },
          "metadata": {
            "needs_background": "light"
          }
        }
      ]
    },
    {
      "cell_type": "markdown",
      "metadata": {
        "id": "7qbpGjGVG9XR"
      },
      "source": [
        "# Exercise 2"
      ]
    },
    {
      "cell_type": "markdown",
      "metadata": {
        "id": "5Yth7PmCHCIL"
      },
      "source": [
        "**Question 1**"
      ]
    },
    {
      "cell_type": "markdown",
      "metadata": {
        "id": "K37n-rhMHNwC"
      },
      "source": [
        "Le vecteur paramètre $ \\theta$ est donnée par :\n",
        "$$ \\theta = (\\alpha,\\mu_1,...,\\mu_m,\\Sigma_1,...,\\Sigma_m)$$\n",
        "On a $\\forall i = 1,...,n$ : $Z_i \\sim \\mathcal{M}(1, \\alpha_1,...,\\alpha_m)  $ sont les variables latente du modèle. \n",
        "\n",
        "En utilisant la formule des probabilités totales, on a que $\\forall i = 1,...,n$ :\n",
        "$$ f_\\theta(x_i) = \\sum_{j = 1}^m f_\\theta(X_i = x_i | Z_i = j) f_\\theta(Z_i = j)  $$\n",
        "$$ f_\\theta(x_i) = \\sum_{j = 1}^m \\mathbb{P}_\\theta(X_i = x_i | Z_i = j) \\mathbb{P}_\\theta(Z_i = j) $$\n",
        "$$ f_\\theta(x_i) = \\sum_{j = 1}^m \\mathcal{N}(x_i ; \\mu_j,\\Sigma_j ) \\alpha_j $$\n",
        "\n",
        "On obtient donc :\n",
        "$$ \\mathcal{L}(x_1,...,x_n; \\theta)  = \\prod_{i=1}^n f_\\theta(x_i) = \\prod_{i=1}^n [\\sum_{j = 1}^m \\mathcal{N}(x_i ; \\mu_j,\\Sigma_j ) \\alpha_j] $$\n",
        "\n",
        "\n",
        "\n",
        "\n",
        "Or $\\forall i=1,..,n$ on a que :\n",
        "$$ \\mathcal{N}(x_i ; \\mu_j,\\Sigma_j ) \\alpha_j = \\alpha_j \\dfrac{1}{(2 \\pi)^{d / 2} | \\Sigma_j |^{1/2}} \\exp \\left( - \\dfrac{1}{2} (x_i - \\mu_j)^T \\Sigma_j^{-1} (x_i - \\mu_j) \\right) $$\n",
        "On obtient ainsi l'expression de la vraissemblance, qui est donnée par :\n",
        "$$ \\mathcal{L}(x_1, ..., x_n; \\theta) = \\prod_{i = 1}^n [\\sum_{j = 1}^m \\alpha_j \\dfrac{1}{(2 \\pi)^{d / 2} | \\Sigma_j |^{1/2}} \\exp \\left( - \\dfrac{1}{2} (x_i - \\mu_j)^T \\Sigma_j^{-1} (x_i - \\mu_j) \\right)] $$\n",
        "\n",
        "La log-vraisemblance est donnée par :\n",
        "\n",
        "$$ L(x_1,...,x_n; \\theta) = \\sum_{i = 1}^n \\log [\\sum_{j = 1}^m \\mathcal{N}(x_i ; \\mu_j,\\Sigma_j ) \\alpha_j]$$"
      ]
    },
    {
      "cell_type": "markdown",
      "metadata": {
        "id": "GuSW-MqKWwDp"
      },
      "source": [
        "**Question 2**"
      ]
    },
    {
      "cell_type": "code",
      "metadata": {
        "id": "MLq3LpuaFJsf"
      },
      "source": [
        "# Sample a set of observation according to a gaussian mixture law\n",
        "\n",
        "# Dimensions\n",
        "m = 3\n",
        "n = 1000\n",
        "w = 80\n",
        "h = 40\n"
      ],
      "execution_count": null,
      "outputs": []
    },
    {
      "cell_type": "code",
      "metadata": {
        "id": "wN3Es3NDDQQb"
      },
      "source": [
        "def S(p):\n",
        "\t# La fonction prend en entrée le vecteur p contenant les probabilités pi\n",
        "\tS = [0]\n",
        "\tn = len(p)\n",
        "\tfor pi in p:\n",
        "\t\tS.append(S[-1]+pi)\n",
        "\tS = np.array(S)\n",
        "\treturn S\n",
        "\n",
        "def random_mixture(m, w, h):\n",
        "\t# Generate alpha\n",
        "\talpha = np.random.rand(m)\n",
        "\talpha /= sum(alpha)\n",
        "\t\n",
        "\tsig = 0.15 * np.sqrt(w*h/m)\n",
        "\tmu = np.random.rand(m, 2) * np.array([w-2*sig, h-2*sig]) + np.array([sig, sig])\n",
        "\t\n",
        "\tsigma = []\n",
        "\tfor j in range(m):\n",
        "\t\tv1, v2, angle = np.random.rand(3) * [0.7*sig, 0.4*sig, 2*np.pi] + [0.3*sig, 0.2*sig, 0]\n",
        "\t\tc, s = np.cos(angle), np.sin(angle)\n",
        "\t\tD = np.diag([v1*v1, v2*v2])\n",
        "\t\tR = np.matrix([[c, -s], [s, c]])\n",
        "\t\tS = R * D * R.transpose()\n",
        "\t\tsigma.append(S)\n",
        "\tsigma = np.array(sigma)\n",
        "\treturn alpha, mu, sigma\n",
        "\n",
        "def plot_gaussians(mu, sigma, ax, color='r'):\n",
        "\tm = len(mu)\n",
        "\tplt.scatter(mu[:,0], mu[:,1], color=color, s=0.8)\n",
        "\tfor j in range(m):\n",
        "\t\tw, v = np.linalg.eigh(sigma[j])\n",
        "\t\tfor mul in [1.0, 1.8, 2.6]:\n",
        "\t\t\tangle = np.math.atan2(v[1, 0], v[0, 0])\n",
        "\t\t\tel = Ellipse(mu[j], mul*w[0]**0.5, mul*w[1]**0.5, 180/np.pi*angle, facecolor='none', edgecolor=color, linestyle='--', linewidth=0.8)\n",
        "\t\t\tax.add_patch(el)\n",
        "\n",
        "def plot_observations(X):\n",
        "    plt.scatter(X[:,0], X[:,1], color='b', s=5e2/len(X))\n",
        "    x0, x1 = min(X[:,0]), max(X[:,0])\n",
        "    y0, y1 = min(X[:,1]), max(X[:,1])\n",
        "    plt.xlim(x0, x1)\n",
        "    plt.ylim(y0, y1)\n",
        "\n",
        "# parameters generation\n",
        "alpha, mu, sigma = random_mixture(m, w, h)\n",
        "\n",
        "##### Sampling a set of observation (according to the gaussian mixture law generated)\n",
        "\n",
        "def sample(alpha, mu, sigma):\n",
        "\tSalpha = S(alpha)\n",
        "\tZ = generate(Salpha, n) - 1\n",
        "\tX = [np.random.multivariate_normal(mu[z], sigma[z]) for z in Z]\n",
        "\tX = np.array(X)\n",
        "\treturn X\n"
      ],
      "execution_count": null,
      "outputs": []
    },
    {
      "cell_type": "code",
      "metadata": {
        "id": "Pp2XN0GBZy2m"
      },
      "source": [
        "# Sampling\n",
        "X = sample(alpha, mu, sigma)"
      ],
      "execution_count": null,
      "outputs": []
    },
    {
      "cell_type": "code",
      "metadata": {
        "colab": {
          "base_uri": "https://localhost:8080/",
          "height": 571
        },
        "id": "qHvH-GU3aFmG",
        "outputId": "9b32d451-b607-436f-862e-61ac826dbf59"
      },
      "source": [
        "##### Displaying the results & Figures\n",
        "\n",
        "fig, ax = plt.subplots()\n",
        "alpha0, mu0, sigma0 = random_mixture(m, w, h)\n",
        "print(\"This is alpha :\")\n",
        "print(alpha)\n",
        "print(\" \")\n",
        "print(\"This is mu :\")\n",
        "print(mu)\n",
        "print(\" \")\n",
        "print(\"This is sigma :\")\n",
        "print(sigma)\n",
        "print(\" \")\n",
        "\n",
        "X = sample(alpha0, mu0, sigma0)\n",
        "plot_gaussians(mu0, sigma0, ax)\n",
        "plot_observations(X)\n",
        "plt.show()"
      ],
      "execution_count": null,
      "outputs": [
        {
          "output_type": "stream",
          "name": "stdout",
          "text": [
            "This is alpha :\n",
            "[0.58972543 0.3491109  0.06116367]\n",
            " \n",
            "This is mu :\n",
            "[[45.3628922  31.65898304]\n",
            " [41.02516186  5.48100937]\n",
            " [50.63351139 14.03055163]]\n",
            " \n",
            "This is sigma :\n",
            "[[[ 2.30848491  1.76689191]\n",
            "  [ 1.76689191  5.4522792 ]]\n",
            "\n",
            " [[17.59631724 -0.01993378]\n",
            "  [-0.01993378  3.98668241]]\n",
            "\n",
            " [[ 9.24563715 -6.12498468]\n",
            "  [-6.12498468 15.4141447 ]]]\n",
            " \n"
          ]
        },
        {
          "output_type": "display_data",
          "data": {
            "image/png": "[encoded data removed]",
            "text/plain": [
              "<Figure size 432x288 with 1 Axes>"
            ]
          },
          "metadata": {
            "needs_background": "light"
          }
        }
      ]
    },
    {
      "cell_type": "markdown",
      "metadata": {
        "id": "CB8vaDlSbjLh"
      },
      "source": [
        "**Question 3**"
      ]
    },
    {
      "cell_type": "markdown",
      "metadata": {
        "id": "kn0LWU5Dc2jt"
      },
      "source": [
        "# E-step\n",
        "\n",
        "On commence par étudier le E-step. À chaque itération t, le E-step consiste à calculer $\\tau_{ij}^t = \\mathbb{P}_{\\theta_t}(Z_i = j \\mid X_i = x_i)$, comme suit :\n",
        " $$ \\tau_{ij}^t = \\mathbb{P}_{\\theta_t}(Z_i = j \\mid X_i = x_i) \\propto \\mathbb{P}_{\\theta_t}(Z_i = j) f_{\\theta_t}(X_i = x_i \\mid Z_i = j) \\propto  \\dfrac{\\alpha_j^t}{| \\Sigma_j^t |^{1/2}} \\exp \\left( - \\dfrac{1}{2} (x_i - \\mu_j^t)^T \\left( \\Sigma_j^t \\right)^{-1} (x_i - \\mu_j^t) \\right) $$\n",
        "\n",
        "\n",
        "# M-step\n",
        "\n",
        "À chaque itération t, l'étape M consiste à calculer le nouveau $\\theta_{t+1}$ en maximisant $Q$ qui est donnée par : \n",
        "$$ Q(\\theta \\mid \\theta_t) = \\sum_{i = 1}^n \\mathbb{E}_{f_{\\theta^t}(Z_i = z_i \\mid X_i = x_i)} \\left[ \\log f_{\\theta}(X_i = x_i, Z_i = z_i) \\right] $$\n",
        "$$ Q(\\theta \\mid \\theta_t) = \\sum_{i = 1}^n \\left[ \\sum_{j = 1}^m f_{\\theta^t}(Z_i = j \\mid X_i =x_i) \\ln f_\\theta(X_i = x_i, Z_i = j)\\right]  = \\sum_{i = 1}^n \\sum_{j = 1}^m \\tau_{ij}^t \\ln f_\\theta(X_i = x_i, Z_i = j)$$\n",
        "$$ Q(\\theta \\mid \\theta_t) = \\sum_{i = 1}^n \\sum_{j = 1}^m \\tau_{ij}^t \\ln \\mathcal{N}(x_i ; \\mu_j,\\Sigma_j ) \\alpha_j = \\sum_{i = 1}^n \\sum_{j = 1}^m \\tau_{ij}^t \\left( \\ln \\alpha_j - \\dfrac{d}{2} \\ln(2\\pi) + \\dfrac{1}{2} \\ln \\left| \\Sigma_j^{-1} \\right| - \\dfrac{1}{2} (x_i - \\mu_j)^T \\Sigma_j^{-1} (x_i - \\mu_j) \\right) $$\n",
        "\n",
        "On peut maximiser $Q$ par rapport à $\\alpha$ indépendament des autres paramètres via le Laplacien :\n",
        "$$ L(\\alpha, \\nu) = \\sum_{i = 1}^n \\sum_{j = 1}^m \\tau_{ij}^t \\ln \\alpha_j + \\nu \\left( 1 - \\sum_{j = 1}^m \\alpha_j \\right) $$\n",
        "On cherche alors le $\\alpha$ qui annule le gradient de L (par rapport à $\\alpha$) : $$ \\dfrac{\\partial L}{\\partial \\alpha_j} = \\sum_{i = 1}^n \\dfrac{\\tau_{ij}^t}{\\alpha_j} - \\nu = 0 \\Leftrightarrow \\alpha_j = \\dfrac{1}{\\nu} \\sum_{i = 1}^n \\tau_{ij}^t $$ \n",
        "Il suffit ensuite de normaliser via l'équation : $$ \\sum_{j = 1}^m \\alpha_j = \\dfrac{1}{\\nu} \\sum_{i = 1}^n \\sum_{j = 1}^m \\tau_{ij}^t = \\dfrac{n}{\\nu} = 1 $$\n",
        "Et on obtient :\n",
        "$$ \\hat{\\alpha_j} = \\dfrac{1}{n} \\sum_{i = 1}^n \\tau_{ij}^t $$\n",
        "\n",
        "$ $\n",
        "\n",
        "Pour maximiser $Q$ par rapport à $\\mu_j$​, on calcule le gradient de $Q$ par rapport à $\\mu_j$​ et on résoud l'équation $\\dfrac{\\partial Q}{\\partial \\mu_j} = 0$, comme suit :\n",
        "$$ \\dfrac{\\partial Q}{\\partial \\mu_j} = \\sum_{i = 1}^n \\tau_{ij}^t \\Sigma_j^{-1}  (x_i - \\mu_j) = 0 \\Leftrightarrow \\sum_{i = 1}^n \\tau_{ij}^t (\\mu_j - x_i) = 0 $$\n",
        "Ce qui nous donne : $$ \\hat{\\mu_j} = \\dfrac{1}{\\sum_{i = 1}^n \\tau_{ij}^t} \\sum_{i = 1}^n \\tau_{ij}^t x_i $$\n",
        "\n",
        " On fait de même pour $\\Sigma_j^{−1}$​ : $$ \\dfrac{\\partial Q}{\\partial \\Sigma_j^{-1}} = \\sum_{i = 1}^n \\tau_{ij}^t \\left( \\dfrac{1}{2} \\Sigma_j - \\dfrac{1}{2} (x_i - \\mu_j) (x_i - \\mu_j)^T \\right) = 0 $$\n",
        " Ce qui nous donne : $$ \\hat{\\Sigma_j} = \\dfrac{1}{\\sum_{i = 1}^n \\tau_{ij}^t} \\sum_{i = 1}^n \\tau_{ij}^t (x_i - \\mu_j) (x_i - \\mu_j)^T $$\n",
        "\n",
        "\n",
        " Ainsi l'étape M revient à calculer les $\\hat{\\alpha_j}$, $\\hat{\\mu_j}$ et $\\hat{\\Sigma_j}$."
      ]
    },
    {
      "cell_type": "code",
      "metadata": {
        "id": "WaVfU1Pabl-c"
      },
      "source": [
        "##### EM Algorithm\n",
        "\n",
        "def EM(X, m, nSteps, verbose=True):\n",
        "\tn, d = X.shape\n",
        "\t# Mean of X\n",
        "\tmX = X.mean(0)\n",
        "\t# Covariance of X\n",
        "\tcX = X - mX\n",
        "\tsX = cX.T @ cX / len(X)\n",
        "\t# Initial parameters\n",
        "\talpha = np.ones(m) / m\n",
        "\tmu = np.array([np.random.multivariate_normal(mX, sX) for _ in range(m)])\n",
        "\tsigma = np.array([sX / m**2] * m)\n",
        "\t# Function to center X with respect to mu\n",
        "\tcentered = lambda: X.reshape(n, 1, d, 1) - mu.reshape(1, m, d, 1)\n",
        " \n",
        "\tfor t in range(nSteps+1):\n",
        "\t\t# E step\n",
        "\t\tinvSigma = np.linalg.pinv(sigma)\n",
        "\t\tdetSigma = np.linalg.det(sigma)\n",
        "\t\tif t == 0: Xc = centered()\n",
        "\t\tcov = Xc.transpose((0, 1, 3, 2)) @ invSigma.reshape(1, m, d, d) @ Xc\n",
        "\t\ttau = np.exp(-0.5 * cov.reshape(n, m)) * alpha / (detSigma * (2*np.pi)**d + 1e-10) ** 0.5\n",
        "\t\tL = tau.sum(1)\n",
        "\t\tif verbose: print(\"log-likelihood:\", np.log(L).sum())\n",
        "\t\tif t == nSteps: break\n",
        "\t\ttau /= L.reshape(n, 1)\n",
        "\n",
        "\t\t# M step\n",
        "\t\talpha = tau.mean(0) + 1e-10\n",
        "\t\talpha /= alpha.sum()\n",
        "\t\tmu = (tau.reshape(n, m, 1) * X.reshape(n, 1, d)).mean(0) / alpha.reshape(m, 1)\n",
        "\t\tXc = centered()\n",
        "\t\tsigma = (tau.reshape(n, m, 1, 1) * (Xc @ Xc.transpose((0, 1, 3, 2)))).mean(0) / alpha.reshape(m, 1 ,1)\n",
        "\treturn alpha, mu, sigma"
      ],
      "execution_count": null,
      "outputs": []
    },
    {
      "cell_type": "code",
      "metadata": {
        "colab": {
          "base_uri": "https://localhost:8080/",
          "height": 1000
        },
        "id": "fKWlmTj5edDo",
        "outputId": "af3eaf71-764f-467e-829b-ab60945f62c0"
      },
      "source": [
        "# Apply EM on generated observations\n",
        "\n",
        "# Parameters\n",
        "nSteps = 30\n",
        "\n",
        "# Recall that we have our observations X = sample(alpha0, mu0, sigma0)\n",
        "fig, ax = plt.subplots()\n",
        "alpha, mu, sigma = EM(X, m, nSteps)\n",
        "print(\" \")\n",
        "print(\"This is the estimated alpha :\")\n",
        "print(alpha)\n",
        "print(\" \")\n",
        "print(\"This is the estimated mu :\")\n",
        "print(mu)\n",
        "print(\" \")\n",
        "print(\"This is the estimated sigma :\")\n",
        "print(sigma)\n",
        "print(\" \")\n",
        "plot_gaussians(mu, sigma, ax)\n",
        "plot_observations(X)\n",
        "plt.show()"
      ],
      "execution_count": null,
      "outputs": [
        {
          "output_type": "stream",
          "name": "stdout",
          "text": [
            "log-likelihood: -10865.114765589893\n",
            "log-likelihood: -5922.440210596704\n",
            "log-likelihood: -5622.347811156706\n",
            "log-likelihood: -5580.363973915304\n",
            "log-likelihood: -5576.110058736143\n",
            "log-likelihood: -5576.089162216613\n",
            "log-likelihood: -5576.089113582841\n",
            "log-likelihood: -5576.089113464576\n",
            "log-likelihood: -5576.089113464288\n",
            "log-likelihood: -5576.089113464286\n",
            "log-likelihood: -5576.089113464287\n",
            "log-likelihood: -5576.089113464286\n",
            "log-likelihood: -5576.089113464287\n",
            "log-likelihood: -5576.089113464286\n",
            "log-likelihood: -5576.089113464287\n",
            "log-likelihood: -5576.089113464287\n",
            "log-likelihood: -5576.089113464287\n",
            "log-likelihood: -5576.089113464287\n",
            "log-likelihood: -5576.089113464287\n",
            "log-likelihood: -5576.089113464287\n",
            "log-likelihood: -5576.089113464287\n",
            "log-likelihood: -5576.089113464287\n",
            "log-likelihood: -5576.089113464287\n",
            "log-likelihood: -5576.089113464287\n",
            "log-likelihood: -5576.089113464287\n",
            "log-likelihood: -5576.089113464287\n",
            "log-likelihood: -5576.089113464287\n",
            "log-likelihood: -5576.089113464287\n",
            "log-likelihood: -5576.089113464287\n",
            "log-likelihood: -5576.089113464287\n",
            "log-likelihood: -5576.089113464287\n",
            " \n",
            "This is the estimated alpha :\n",
            "[0.47997755 0.142      0.37802245]\n",
            " \n",
            "This is the estimated mu :\n",
            "[[44.66523635  9.04250791]\n",
            " [72.71048228 30.6657659 ]\n",
            " [21.71196255 19.73899654]]\n",
            " \n",
            "This is the estimated sigma :\n",
            "[[[ 7.85491569 -7.12840134]\n",
            "  [-7.12840134  9.24469255]]\n",
            "\n",
            " [[ 2.16219093 -0.36060816]\n",
            "  [-0.36060816  1.60992307]]\n",
            "\n",
            " [[17.04564761 -5.66926463]\n",
            "  [-5.66926463  9.3595996 ]]]\n",
            " \n"
          ]
        },
        {
          "output_type": "display_data",
          "data": {
            "image/png": "[encoded data removed]",
            "text/plain": [
              "<Figure size 432x288 with 1 Axes>"
            ]
          },
          "metadata": {
            "needs_background": "light"
          }
        }
      ]
    },
    {
      "cell_type": "markdown",
      "metadata": {
        "id": "j66CmUm1iOfd"
      },
      "source": [
        "**Question 4**"
      ]
    },
    {
      "cell_type": "markdown",
      "metadata": {
        "id": "r-bFGBnM2hdy"
      },
      "source": [
        "Juste en observant les graphes, on peut constater que les résultats obtenus dans la question 3 sont similaires au résultats obtenus avec les vrais paramètres alpha, mu et sigma dans la question 2. Les paramètres estimés par l'algorithme EM ont l'air plutôt proche des  vrais paramètres."
      ]
    },
    {
      "cell_type": "code",
      "metadata": {
        "id": "orCaoZmoiRcU"
      },
      "source": [
        "### Distance ###\n",
        "# On définie la distance l2 entre deux vecteurs\n",
        "def distl2(x,y) :\n",
        "  return np.sqrt(np.sum((x-y)**2))"
      ],
      "execution_count": null,
      "outputs": []
    },
    {
      "cell_type": "code",
      "metadata": {
        "colab": {
          "base_uri": "https://localhost:8080/"
        },
        "id": "Wyz3wzq05u0F",
        "outputId": "9c774271-e2cf-459f-f767-2e6b677266c6"
      },
      "source": [
        "distance = distl2(alpha,alpha0)\n",
        "distance "
      ],
      "execution_count": null,
      "outputs": [
        {
          "output_type": "execute_result",
          "data": {
            "text/plain": [
              "0.3846124951518315"
            ]
          },
          "metadata": {},
          "execution_count": 40
        }
      ]
    },
    {
      "cell_type": "markdown",
      "metadata": {
        "id": "nxQhxWNJhKDt"
      },
      "source": [
        "N.B : je suis désolé mais je ne vois pas comment comparer la distance entre les matrices paramètres sigma et mu."
      ]
    },
    {
      "cell_type": "markdown",
      "metadata": {
        "id": "snx2ZPQBZzhz"
      },
      "source": [
        "On peut voir que la distance entre le alpha estimé et le vrai alpha est de 0.38, ce qui est plutôt petit.\n",
        "\n",
        "Cependant, en comparant les valeurs des sigmas et mu estimés avec les vrais paramètres on peut noter quelques différences importantes de valeurs.\n",
        "\n",
        "Ainsi,  on en déduit que les paramètres estimés  ne sont pas si proches des vrais paramètres, bien que graphiquement les résultats aient l'air similaire.\n",
        "\n"
      ]
    },
    {
      "cell_type": "markdown",
      "metadata": {
        "id": "RLOV9dzljZ1I"
      },
      "source": [
        "**Question 5**"
      ]
    },
    {
      "cell_type": "code",
      "metadata": {
        "colab": {
          "base_uri": "https://localhost:8080/",
          "height": 298
        },
        "id": "_iix5seVjd2t",
        "outputId": "e9a2b5d0-1b9e-4216-ebce-c85732d54a38"
      },
      "source": [
        "##### Loading the data\n",
        "import pandas as pd\n",
        "\n",
        "df2 = pd.read_excel (r'/content/WPP2019_MORT_F02_CRUDE_DEATH_RATE.xlsx')\n",
        "C=df2['Unnamed: 10']\n",
        "death_rate=C.loc[C.apply(type) == float]\n",
        "death_rate.dropna()\n",
        "\n",
        "df3 = pd.read_excel (r'/content/WPP2019_FERT_F03_CRUDE_BIRTH_RATE.xlsx')\n",
        "C=df3['Unnamed: 10']\n",
        "birth_rate=C.loc[C.apply(type) == float]\n",
        "birth_rate.dropna()\n",
        "\n",
        "plt.title(\"Scatter Graph of the data Crude Birth/Death Rate\")\n",
        "plt.scatter(birth_rate,death_rate)"
      ],
      "execution_count": null,
      "outputs": [
        {
          "output_type": "execute_result",
          "data": {
            "text/plain": [
              "<matplotlib.collections.PathCollection at 0x7f41f7029a90>"
            ]
          },
          "metadata": {},
          "execution_count": 6
        },
        {
          "output_type": "display_data",
          "data": {
            "image/png": "[encoded data removed]",
            "text/plain": [
              "<Figure size 432x288 with 1 Axes>"
            ]
          },
          "metadata": {
            "needs_background": "light"
          }
        }
      ]
    },
    {
      "cell_type": "markdown",
      "metadata": {
        "id": "wa33oDMB_vhI"
      },
      "source": [
        "By looking at the scatter graph, there seems to be several groups of data. As we know, Gaussian mixture model is useful for modelling data that comes from one or several groups. Therefore using a gaussian mixture model seems appropriate here."
      ]
    },
    {
      "cell_type": "markdown",
      "metadata": {
        "id": "b3RU-imTtByT"
      },
      "source": [
        "**Question 6**"
      ]
    },
    {
      "cell_type": "code",
      "metadata": {
        "id": "-7woI4mJqeph"
      },
      "source": [
        "##### First off, we get rid of all the NaN values in birth and death rate\n",
        "B = birth_rate.dropna(axis=0, how='any', inplace=False)\n",
        "B = np.array(B)\n",
        "D = death_rate.dropna(axis=0, how='any', inplace=False)\n",
        "D = np.array(D)"
      ],
      "execution_count": null,
      "outputs": []
    },
    {
      "cell_type": "code",
      "metadata": {
        "id": "nhXmnGymoRAS"
      },
      "source": [
        "##### Now we create our sample X whose coordinates are the birth and death rates\n",
        "X = []\n",
        "for i in range (len(B)) :\n",
        "  A = [B[i], D[i]]\n",
        "  X.append(A)\n",
        "X = np.array(X)"
      ],
      "execution_count": null,
      "outputs": []
    },
    {
      "cell_type": "code",
      "metadata": {
        "id": "FW3PRtKUAoER"
      },
      "source": [
        "# I redefine my EM algorithm because of an issue I encountered while running my notebook.\n",
        "\n",
        "def EM(X, m, nSteps, verbose=True):\n",
        "\tn, d = X.shape\n",
        "\t# Mean of X\n",
        "\tmX = X.mean(0)\n",
        "\t# Covariance of X\n",
        "\tcX = X - mX\n",
        "\tsX = cX.T @ cX / len(X)\n",
        "\t# Initial parameters\n",
        "\talpha = np.ones(m) / m\n",
        "\tmu = np.array([np.random.multivariate_normal(mX, sX) for _ in range(m)])\n",
        "\tsigma = np.array([sX / m**2] * m)\n",
        "\t# Function to center X with respect to mu\n",
        "\tcentered = lambda: X.reshape(n, 1, d, 1) - mu.reshape(1, m, d, 1)\n",
        " \n",
        "\tfor t in range(nSteps+1):\n",
        "\t\t# E step\n",
        "\t\tinvSigma = np.linalg.pinv(sigma)\n",
        "\t\tdetSigma = np.linalg.det(sigma)\n",
        "\t\tif t == 0: Xc = centered()\n",
        "\t\tcov = Xc.transpose((0, 1, 3, 2)) @ invSigma.reshape(1, m, d, d) @ Xc\n",
        "\t\ttau = np.exp(-0.5 * cov.reshape(n, m)) * alpha / (detSigma * (2*np.pi)**d + 1e-10) ** 0.5\n",
        "\t\tL = tau.sum(1)\n",
        "\t\tif t == nSteps: break\n",
        "\t\ttau /= L.reshape(n, 1)\n",
        "\n",
        "\t\t# M step\n",
        "\t\talpha = tau.mean(0) + 1e-10\n",
        "\t\talpha /= alpha.sum()\n",
        "\t\tmu = (tau.reshape(n, m, 1) * X.reshape(n, 1, d)).mean(0) / alpha.reshape(m, 1)\n",
        "\t\tXc = centered()\n",
        "\t\tsigma = (tau.reshape(n, m, 1, 1) * (Xc @ Xc.transpose((0, 1, 3, 2)))).mean(0) / alpha.reshape(m, 1 ,1)\n",
        "\t\t#Result.append(-np.log(L).sum() + (m * np.log(n))/2)\n",
        "\treturn alpha, mu, sigma\n",
        "\n",
        "#Result = []"
      ],
      "execution_count": null,
      "outputs": []
    },
    {
      "cell_type": "markdown",
      "metadata": {
        "id": "4Jt8w6vyuYum"
      },
      "source": [
        "Now we can estimate the parameters $\\theta$ for different values of m. We will study the cases where m = 1, 2, 3, 4, 5, 6."
      ]
    },
    {
      "cell_type": "code",
      "metadata": {
        "colab": {
          "base_uri": "https://localhost:8080/",
          "height": 435
        },
        "id": "8Kz3sI75sUKv",
        "outputId": "f886d39e-4a15-4569-8556-091e9c8bda10"
      },
      "source": [
        "##### for m = 1 cluster\n",
        "m = 1 \n",
        "nSteps = 40\n",
        "\n",
        "fig, ax = plt.subplots()\n",
        "alphaB, muB, sigmaB = EM(X, m, nSteps) \n",
        "\n",
        "print(\"This is the estimated alpha :\")\n",
        "print(alphaB)\n",
        "print(\" \")\n",
        "print(\"This is the estimated mu :\")\n",
        "print(muB)\n",
        "print(\" \")\n",
        "print(\"This is the estimated sigma :\")\n",
        "print(sigmaB)\n",
        "print(\" \")\n",
        "plot_gaussians(muB, sigmaB, ax)\n",
        "plot_observations(X)\n",
        "plt.show()"
      ],
      "execution_count": null,
      "outputs": [
        {
          "output_type": "stream",
          "name": "stdout",
          "text": [
            "This is the estimated alpha :\n",
            "[1.]\n",
            " \n",
            "This is the estimated mu :\n",
            "[[35.69078486 13.70190438]]\n",
            " \n",
            "This is the estimated sigma :\n",
            "[[[137.17521748  46.62174763]\n",
            "  [ 46.62174763  35.94933738]]]\n",
            " \n"
          ]
        },
        {
          "output_type": "display_data",
          "data": {
            "image/png": "[encoded data removed]",
            "text/plain": [
              "<Figure size 432x288 with 1 Axes>"
            ]
          },
          "metadata": {
            "needs_background": "light"
          }
        }
      ]
    },
    {
      "cell_type": "code",
      "metadata": {
        "colab": {
          "base_uri": "https://localhost:8080/",
          "height": 571
        },
        "id": "ovpEBRzyuxwW",
        "outputId": "735c270a-dc4e-4c2e-c579-20c294c8e78e"
      },
      "source": [
        "##### for m = 2 clusters\n",
        "m = 2\n",
        "nSteps = 40\n",
        "\n",
        "fig, ax = plt.subplots()\n",
        "alphaB, muB, sigmaB = EM(X, m, nSteps) \n",
        "\n",
        "print(\"This is the estimated alpha :\")\n",
        "print(alpha)\n",
        "print(\" \")\n",
        "print(\"This is the estimated mu :\")\n",
        "print(mu)\n",
        "print(\" \")\n",
        "print(\"This is the estimated sigma :\")\n",
        "print(sigma)\n",
        "print(\" \")\n",
        "plot_gaussians(muB, sigmaB, ax)\n",
        "plot_observations(X)\n",
        "plt.show()"
      ],
      "execution_count": null,
      "outputs": [
        {
          "output_type": "stream",
          "name": "stdout",
          "text": [
            "This is the estimated alpha :\n",
            "[0.398      0.12371542 0.47828458]\n",
            " \n",
            "This is the estimated mu :\n",
            "[[15.38948362 31.2906191 ]\n",
            " [35.31404941  6.47199912]\n",
            " [40.9226134  14.81199933]]\n",
            " \n",
            "This is the estimated sigma :\n",
            "[[[ 9.04382878  3.15981879]\n",
            "  [ 3.15981879 19.27110899]]\n",
            "\n",
            " [[ 3.66514409 -0.14563538]\n",
            "  [-0.14563538  4.92443907]]\n",
            "\n",
            " [[ 7.72470435 -9.71138314]\n",
            "  [-9.71138314 21.69240911]]]\n",
            " \n"
          ]
        },
        {
          "output_type": "display_data",
          "data": {
            "image/png": "[encoded data removed]",
            "text/plain": [
              "<Figure size 432x288 with 1 Axes>"
            ]
          },
          "metadata": {
            "needs_background": "light"
          }
        }
      ]
    },
    {
      "cell_type": "code",
      "metadata": {
        "colab": {
          "base_uri": "https://localhost:8080/",
          "height": 571
        },
        "id": "2fpjjkppvIU-",
        "outputId": "bcaeb1ab-2500-4fe0-d433-b1e123fabb1b"
      },
      "source": [
        "##### for m = 3 clusters\n",
        "m = 3\n",
        "nSteps = 40\n",
        "\n",
        "fig, ax = plt.subplots()\n",
        "alphaB, muB, sigmaB = EM(X, m, nSteps) \n",
        "\n",
        "print(\"This is the estimated alpha :\")\n",
        "print(alpha)\n",
        "print(\" \")\n",
        "print(\"This is the estimated mu :\")\n",
        "print(mu)\n",
        "print(\" \")\n",
        "print(\"This is the estimated sigma :\")\n",
        "print(sigma)\n",
        "print(\" \")\n",
        "plot_gaussians(muB, sigmaB, ax)\n",
        "plot_observations(X)\n",
        "plt.show()"
      ],
      "execution_count": null,
      "outputs": [
        {
          "output_type": "stream",
          "name": "stdout",
          "text": [
            "This is the estimated alpha :\n",
            "[0.398      0.12371542 0.47828458]\n",
            " \n",
            "This is the estimated mu :\n",
            "[[15.38948362 31.2906191 ]\n",
            " [35.31404941  6.47199912]\n",
            " [40.9226134  14.81199933]]\n",
            " \n",
            "This is the estimated sigma :\n",
            "[[[ 9.04382878  3.15981879]\n",
            "  [ 3.15981879 19.27110899]]\n",
            "\n",
            " [[ 3.66514409 -0.14563538]\n",
            "  [-0.14563538  4.92443907]]\n",
            "\n",
            " [[ 7.72470435 -9.71138314]\n",
            "  [-9.71138314 21.69240911]]]\n",
            " \n"
          ]
        },
        {
          "output_type": "display_data",
          "data": {
            "image/png": "[encoded data removed]",
            "text/plain": [
              "<Figure size 432x288 with 1 Axes>"
            ]
          },
          "metadata": {
            "needs_background": "light"
          }
        }
      ]
    },
    {
      "cell_type": "code",
      "metadata": {
        "colab": {
          "base_uri": "https://localhost:8080/",
          "height": 571
        },
        "id": "pvbC41YJvaz7",
        "outputId": "ef54da01-7b8e-4cc9-e911-588b17e9c29a"
      },
      "source": [
        "##### for m = 4 clusters\n",
        "m = 4\n",
        "nSteps = 40\n",
        "\n",
        "fig, ax = plt.subplots()\n",
        "alphaB, muB, sigmaB = EM(X, m, nSteps) \n",
        "\n",
        "print(\"This is the estimated alpha :\")\n",
        "print(alpha)\n",
        "print(\" \")\n",
        "print(\"This is the estimated mu :\")\n",
        "print(mu)\n",
        "print(\" \")\n",
        "print(\"This is the estimated sigma :\")\n",
        "print(sigma)\n",
        "print(\" \")\n",
        "plot_gaussians(muB, sigmaB, ax)\n",
        "plot_observations(X)\n",
        "plt.show()"
      ],
      "execution_count": null,
      "outputs": [
        {
          "output_type": "stream",
          "name": "stdout",
          "text": [
            "This is the estimated alpha :\n",
            "[0.398      0.12371542 0.47828458]\n",
            " \n",
            "This is the estimated mu :\n",
            "[[15.38948362 31.2906191 ]\n",
            " [35.31404941  6.47199912]\n",
            " [40.9226134  14.81199933]]\n",
            " \n",
            "This is the estimated sigma :\n",
            "[[[ 9.04382878  3.15981879]\n",
            "  [ 3.15981879 19.27110899]]\n",
            "\n",
            " [[ 3.66514409 -0.14563538]\n",
            "  [-0.14563538  4.92443907]]\n",
            "\n",
            " [[ 7.72470435 -9.71138314]\n",
            "  [-9.71138314 21.69240911]]]\n",
            " \n"
          ]
        },
        {
          "output_type": "display_data",
          "data": {
            "image/png": "[encoded data removed]",
            "text/plain": [
              "<Figure size 432x288 with 1 Axes>"
            ]
          },
          "metadata": {
            "needs_background": "light"
          }
        }
      ]
    },
    {
      "cell_type": "code",
      "metadata": {
        "colab": {
          "base_uri": "https://localhost:8080/",
          "height": 571
        },
        "id": "9ZtSJc4QvfGa",
        "outputId": "e239add0-a4af-4780-fc83-b67fd471696b"
      },
      "source": [
        "##### for m = 5 clusters\n",
        "m = 5\n",
        "nSteps = 40\n",
        "\n",
        "fig, ax = plt.subplots()\n",
        "alphaB, muB, sigmaB = EM(X, m, nSteps) \n",
        "\n",
        "print(\"This is the estimated alpha :\")\n",
        "print(alpha)\n",
        "print(\" \")\n",
        "print(\"This is the estimated mu :\")\n",
        "print(mu)\n",
        "print(\" \")\n",
        "print(\"This is the estimated sigma :\")\n",
        "print(sigma)\n",
        "print(\" \")\n",
        "plot_gaussians(muB, sigmaB, ax)\n",
        "plot_observations(X)\n",
        "plt.show()"
      ],
      "execution_count": null,
      "outputs": [
        {
          "output_type": "stream",
          "name": "stdout",
          "text": [
            "This is the estimated alpha :\n",
            "[0.398      0.12371542 0.47828458]\n",
            " \n",
            "This is the estimated mu :\n",
            "[[15.38948362 31.2906191 ]\n",
            " [35.31404941  6.47199912]\n",
            " [40.9226134  14.81199933]]\n",
            " \n",
            "This is the estimated sigma :\n",
            "[[[ 9.04382878  3.15981879]\n",
            "  [ 3.15981879 19.27110899]]\n",
            "\n",
            " [[ 3.66514409 -0.14563538]\n",
            "  [-0.14563538  4.92443907]]\n",
            "\n",
            " [[ 7.72470435 -9.71138314]\n",
            "  [-9.71138314 21.69240911]]]\n",
            " \n"
          ]
        },
        {
          "output_type": "display_data",
          "data": {
            "image/png": "[encoded data removed]",
            "text/plain": [
              "<Figure size 432x288 with 1 Axes>"
            ]
          },
          "metadata": {
            "needs_background": "light"
          }
        }
      ]
    },
    {
      "cell_type": "code",
      "metadata": {
        "colab": {
          "base_uri": "https://localhost:8080/",
          "height": 571
        },
        "id": "bo2ms1ASvk6D",
        "outputId": "3ee632b4-9c44-48dd-a729-01b43da4fe16"
      },
      "source": [
        "##### for m = 6 clusters\n",
        "m = 6\n",
        "nSteps = 40\n",
        "\n",
        "fig, ax = plt.subplots()\n",
        "alphaB, muB, sigmaB = EM(X, m, nSteps) \n",
        "\n",
        "print(\"This is the estimated alpha :\")\n",
        "print(alpha)\n",
        "print(\" \")\n",
        "print(\"This is the estimated mu :\")\n",
        "print(mu)\n",
        "print(\" \")\n",
        "print(\"This is the estimated sigma :\")\n",
        "print(sigma)\n",
        "print(\" \")\n",
        "plot_gaussians(muB, sigmaB, ax)\n",
        "plot_observations(X)\n",
        "plt.show()"
      ],
      "execution_count": null,
      "outputs": [
        {
          "output_type": "stream",
          "name": "stdout",
          "text": [
            "This is the estimated alpha :\n",
            "[0.398      0.12371542 0.47828458]\n",
            " \n",
            "This is the estimated mu :\n",
            "[[15.38948362 31.2906191 ]\n",
            " [35.31404941  6.47199912]\n",
            " [40.9226134  14.81199933]]\n",
            " \n",
            "This is the estimated sigma :\n",
            "[[[ 9.04382878  3.15981879]\n",
            "  [ 3.15981879 19.27110899]]\n",
            "\n",
            " [[ 3.66514409 -0.14563538]\n",
            "  [-0.14563538  4.92443907]]\n",
            "\n",
            " [[ 7.72470435 -9.71138314]\n",
            "  [-9.71138314 21.69240911]]]\n",
            " \n"
          ]
        },
        {
          "output_type": "display_data",
          "data": {
            "image/png": "[encoded data removed]",
            "text/plain": [
              "<Figure size 432x288 with 1 Axes>"
            ]
          },
          "metadata": {
            "needs_background": "light"
          }
        }
      ]
    },
    {
      "cell_type": "code",
      "metadata": {
        "colab": {
          "base_uri": "https://localhost:8080/",
          "height": 571
        },
        "id": "dfsBt7V_Bjgu",
        "outputId": "c32a7c03-bd4a-40fd-dcbd-8e6270247c25"
      },
      "source": [
        "##### for m = 7 clusters\n",
        "m = 7\n",
        "nSteps = 40\n",
        "\n",
        "fig, ax = plt.subplots()\n",
        "alphaB, muB, sigmaB = EM(X, m, nSteps) \n",
        "\n",
        "print(\"This is the estimated alpha :\")\n",
        "print(alpha)\n",
        "print(\" \")\n",
        "print(\"This is the estimated mu :\")\n",
        "print(mu)\n",
        "print(\" \")\n",
        "print(\"This is the estimated sigma :\")\n",
        "print(sigma)\n",
        "print(\" \")\n",
        "plot_gaussians(muB, sigmaB, ax)\n",
        "plot_observations(X)\n",
        "plt.show()"
      ],
      "execution_count": null,
      "outputs": [
        {
          "output_type": "stream",
          "name": "stdout",
          "text": [
            "This is the estimated alpha :\n",
            "[0.398      0.12371542 0.47828458]\n",
            " \n",
            "This is the estimated mu :\n",
            "[[15.38948362 31.2906191 ]\n",
            " [35.31404941  6.47199912]\n",
            " [40.9226134  14.81199933]]\n",
            " \n",
            "This is the estimated sigma :\n",
            "[[[ 9.04382878  3.15981879]\n",
            "  [ 3.15981879 19.27110899]]\n",
            "\n",
            " [[ 3.66514409 -0.14563538]\n",
            "  [-0.14563538  4.92443907]]\n",
            "\n",
            " [[ 7.72470435 -9.71138314]\n",
            "  [-9.71138314 21.69240911]]]\n",
            " \n"
          ]
        },
        {
          "output_type": "display_data",
          "data": {
            "image/png": "[encoded data removed]",
            "text/plain": [
              "<Figure size 432x288 with 1 Axes>"
            ]
          },
          "metadata": {
            "needs_background": "light"
          }
        }
      ]
    },
    {
      "cell_type": "markdown",
      "metadata": {
        "id": "jiJxaRRKw6di"
      },
      "source": [
        "# **Exercise 3**"
      ]
    },
    {
      "cell_type": "markdown",
      "metadata": {
        "id": "MWE30l9GAZWJ"
      },
      "source": [
        "# 3.A Poor importance sampling"
      ]
    },
    {
      "cell_type": "markdown",
      "metadata": {
        "id": "2A0UKegZw-hP"
      },
      "source": [
        "**Question1**"
      ]
    },
    {
      "cell_type": "markdown",
      "metadata": {
        "id": "P214ofIiSCXG"
      },
      "source": [
        "We notice that $q(x) = 2 \\times \\mathcal{N}(x;0.8,1.5)$.\n",
        "\n",
        "Therefore generating a sample from q is tantamount to generating a sample from $2 \\times$ $\\mathcal{N}(0.8,1.5)$"
      ]
    },
    {
      "cell_type": "code",
      "metadata": {
        "id": "Ek9kphJePI-a"
      },
      "source": [
        "import numpy as np\n",
        "import matplotlib.pyplot as plt\n",
        "import math"
      ],
      "execution_count": null,
      "outputs": []
    },
    {
      "cell_type": "code",
      "metadata": {
        "id": "DMiuA1eR1LpP"
      },
      "source": [
        "# We define the functions f, p and q\n",
        "\n",
        "def f(x) :\n",
        "  return 2*np.sin(np.pi*x / 1.5)* (x>=0)\n",
        "\n",
        "def p(x) :\n",
        "  return x**(1.65-1) * np.exp(-x**2/2) * (x >= 0)\n",
        "\n",
        "def q(x) :\n",
        "  return (2/np.sqrt(2*np.pi*1.5)) * np.exp(-((0.8-x)**2) / 2*1.5) "
      ],
      "execution_count": null,
      "outputs": []
    },
    {
      "cell_type": "code",
      "metadata": {
        "id": "S77I9uLSSl2a"
      },
      "source": [
        "def generate_sampleq(n,mu,sigma) :\n",
        "  # function that samples from q\n",
        "  sample =[]\n",
        "  k = n \n",
        "  while k!= 0 :\n",
        "    A = 2 * np.random.normal(mu, sigma)\n",
        "    if A >= 0 :\n",
        "      sample.append(A)\n",
        "      k -= 1\n",
        "\n",
        "  sample = np.array(sample)\n",
        "  return sample\n",
        "\n",
        "def importance_weights(sample) :\n",
        "  w =[]\n",
        "  for i in range(len(sample)) :\n",
        "    A = p(sample[i])/q(sample[i])\n",
        "    w.append(A)\n",
        "\n",
        "  w = np.array(w)\n",
        "  return w\n",
        "\n",
        "def normalizedw(w) :\n",
        "  wt = []\n",
        "  for i in range(len(w)) :\n",
        "    A = w[i]/ np.sum(w)\n",
        "    wt.append(A)\n",
        "\n",
        "  wt = np.array(wt)\n",
        "  return wt\n",
        "\n",
        "def estimatef(sample, wt) :\n",
        "  F = []\n",
        "  for i in range(len(sample)) :\n",
        "    A = wt[i] * f(sample[i])\n",
        "    F.append(A)\n",
        "\n",
        "  F = np.array(F)\n",
        "  estf = np.sum(F)\n",
        "  return estf\n",
        "\n"
      ],
      "execution_count": null,
      "outputs": []
    },
    {
      "cell_type": "code",
      "metadata": {
        "id": "2ANtYJbrxtLb"
      },
      "source": [
        "# Parameters\n",
        "mu, sigma = 0.8, np.sqrt(1.5) # mean and standard deviation\n",
        "n = 10\n",
        "\n",
        "# We generate a sample from q\n",
        "sample = generate_sampleq(n, mu, sigma)\n",
        "\n",
        "# We compute the importance weights\n",
        "w = importance_weights(sample)\n",
        "\n",
        "# Now we compute the normalized importance weights\n",
        "wt = normalizedw(w)\n",
        "\n",
        "# Hence, we can approximate the expectation of f\n",
        "Estimate = estimatef(sample,wt)"
      ],
      "execution_count": null,
      "outputs": []
    },
    {
      "cell_type": "code",
      "metadata": {
        "colab": {
          "base_uri": "https://localhost:8080/"
        },
        "id": "BmaYZ1sAjyOj",
        "outputId": "131e1b70-8682-4200-c792-3fedb0ccb19c"
      },
      "source": [
        "print(Estimate)"
      ],
      "execution_count": null,
      "outputs": [
        {
          "output_type": "stream",
          "name": "stdout",
          "text": [
            "1.1319787553847613\n"
          ]
        }
      ]
    },
    {
      "cell_type": "markdown",
      "metadata": {
        "id": "9Q-fzi7j5O6H"
      },
      "source": [
        "**Question 2**"
      ]
    },
    {
      "cell_type": "markdown",
      "metadata": {
        "id": "bU8HhlR9j7Ax"
      },
      "source": [
        "Let's compare the estimate for several size n =10, 100, 1000, 10000"
      ]
    },
    {
      "cell_type": "code",
      "metadata": {
        "id": "y5v4tPuX5Rb3"
      },
      "source": [
        "# For n = 10 \n",
        "sample = generate_sampleq(n, mu, sigma)\n",
        "w = importance_weights(sample)\n",
        "wt = normalizedw(w)\n",
        "estimate = estimatef(sample,wt)"
      ],
      "execution_count": null,
      "outputs": []
    },
    {
      "cell_type": "code",
      "metadata": {
        "colab": {
          "base_uri": "https://localhost:8080/"
        },
        "id": "S-p839iK5SO7",
        "outputId": "6a32c79b-3fb4-4d29-b287-a69e0d58df1a"
      },
      "source": [
        "\n",
        "print(\" \")\n",
        "print(\" importance weights :\")\n",
        "print(w)\n",
        "print(\" \")\n",
        "print(\" normalized importance weights :\")\n",
        "print(wt) \n",
        "print(\" \")\n",
        "print(\" estimate :\")\n",
        "print(estimate)"
      ],
      "execution_count": null,
      "outputs": [
        {
          "output_type": "stream",
          "name": "stdout",
          "text": [
            " \n",
            " importance weights :\n",
            "[19.93625482  0.98271057  0.96103532  2.84630732 17.64756384  0.94243353\n",
            "  0.88482511  3.08442524 43.03848733  0.95892335]\n",
            " \n",
            " normalized importance weights :\n",
            "[0.2184006  0.01076554 0.01052809 0.03118114 0.19332812 0.01032431\n",
            " 0.00969321 0.03378971 0.47148432 0.01050495]\n",
            " \n",
            " estimate :\n",
            "-0.7073489524773563\n"
          ]
        }
      ]
    },
    {
      "cell_type": "code",
      "metadata": {
        "id": "BUvHgzpf_leN"
      },
      "source": [
        "# For n = 100\n",
        "n = 100\n",
        "sample = generate_sampleq(n, mu, sigma)\n",
        "w = importance_weights(sample)\n",
        "wt = normalizedw(w)\n",
        "estimate = estimatef(sample,wt)"
      ],
      "execution_count": null,
      "outputs": []
    },
    {
      "cell_type": "code",
      "metadata": {
        "colab": {
          "base_uri": "https://localhost:8080/"
        },
        "id": "NLbIHcqC5SEu",
        "outputId": "1c056f78-1c10-41c0-b332-e75dbbd2730c"
      },
      "source": [
        "print(\" estimate for n = 100 :\")\n",
        "print(estimate)"
      ],
      "execution_count": null,
      "outputs": [
        {
          "output_type": "stream",
          "name": "stdout",
          "text": [
            " estimate for n = 100 :\n",
            "1.2099749251361944\n"
          ]
        }
      ]
    },
    {
      "cell_type": "code",
      "metadata": {
        "id": "GHBocWbc_2fL"
      },
      "source": [
        "# For n = 1000\n",
        "n = 1000\n",
        "sample = generate_sampleq(n, mu, sigma)\n",
        "w = importance_weights(sample)\n",
        "wt = normalizedw(w)\n",
        "estimate = estimatef(sample,wt)"
      ],
      "execution_count": null,
      "outputs": []
    },
    {
      "cell_type": "code",
      "metadata": {
        "colab": {
          "base_uri": "https://localhost:8080/"
        },
        "id": "_-6OaAb4_5z7",
        "outputId": "7c2b3ca8-244f-4d7b-f3df-c2d0dd60d009"
      },
      "source": [
        "print(\" estimate for n = 1000 :\")\n",
        "print(estimate)"
      ],
      "execution_count": null,
      "outputs": [
        {
          "output_type": "stream",
          "name": "stdout",
          "text": [
            " estimate for n = 1000 :\n",
            "-0.42827606345294983\n"
          ]
        }
      ]
    },
    {
      "cell_type": "code",
      "metadata": {
        "id": "oSe8XrG7kpxw"
      },
      "source": [
        "# For n = 10000\n",
        "n = 10000\n",
        "sample = generate_sampleq(n, mu, sigma)\n",
        "w = importance_weights(sample)\n",
        "wt = normalizedw(w)\n",
        "estimate = estimatef(sample,wt)"
      ],
      "execution_count": null,
      "outputs": []
    },
    {
      "cell_type": "code",
      "metadata": {
        "colab": {
          "base_uri": "https://localhost:8080/"
        },
        "id": "aSMKa1qsktHB",
        "outputId": "cd9e9e87-2693-4885-8e45-1bc6ff8b2459"
      },
      "source": [
        "print(\" estimate for n = 10000 :\")\n",
        "print(estimate)"
      ],
      "execution_count": null,
      "outputs": [
        {
          "output_type": "stream",
          "name": "stdout",
          "text": [
            " estimate for n = 10000 :\n",
            "-0.24529230306457558\n"
          ]
        }
      ]
    },
    {
      "cell_type": "markdown",
      "metadata": {
        "id": "KPM136i2Aikg"
      },
      "source": [
        "**Question 3**"
      ]
    },
    {
      "cell_type": "code",
      "metadata": {
        "id": "a6qXl_G2AI4N"
      },
      "source": [
        "# We shift the mean of q to mu = 6\n",
        "def q(x) :\n",
        "  return (2/np.sqrt(2*np.pi*1.5)) * np.exp(-((6-x)**2) / 2*1.5) "
      ],
      "execution_count": null,
      "outputs": []
    },
    {
      "cell_type": "code",
      "metadata": {
        "id": "4dipmIeQAIzx"
      },
      "source": [
        "# Parameters : we change mu to 6\n",
        "mu, sigma = 6, np.sqrt(1.5) "
      ],
      "execution_count": null,
      "outputs": []
    },
    {
      "cell_type": "code",
      "metadata": {
        "id": "Nq3k7RWQAIvN"
      },
      "source": [
        "###### We repeat the experiment\n",
        "# For n = 10\n",
        "n = 10\n",
        "sample = generate_sampleq(n, mu, sigma)\n",
        "w = importance_weights(sample)\n",
        "wt = normalizedw(w)\n",
        "estimate = estimatef(sample,wt)"
      ],
      "execution_count": null,
      "outputs": []
    },
    {
      "cell_type": "code",
      "metadata": {
        "colab": {
          "base_uri": "https://localhost:8080/"
        },
        "id": "cO4wHwiFAIr3",
        "outputId": "080e87c4-3187-4e9b-a2f7-b9f3110894be"
      },
      "source": [
        "estimate"
      ],
      "execution_count": null,
      "outputs": [
        {
          "output_type": "execute_result",
          "data": {
            "text/plain": [
              "0.7781644752035285"
            ]
          },
          "metadata": {},
          "execution_count": 60
        }
      ]
    },
    {
      "cell_type": "code",
      "metadata": {
        "id": "UPlKFR1tAIoj"
      },
      "source": [
        "# for n = 100\n",
        "n = 100\n",
        "sample = generate_sampleq(n, mu, sigma)\n",
        "w = importance_weights(sample)\n",
        "wt = normalizedw(w)\n",
        "estimate = estimatef(sample,wt)"
      ],
      "execution_count": null,
      "outputs": []
    },
    {
      "cell_type": "code",
      "metadata": {
        "id": "RWwT0oBEAIlc",
        "colab": {
          "base_uri": "https://localhost:8080/"
        },
        "outputId": "91e47bff-ec0a-4b8b-ec54-ece7768f0dec"
      },
      "source": [
        "estimate"
      ],
      "execution_count": null,
      "outputs": [
        {
          "output_type": "execute_result",
          "data": {
            "text/plain": [
              "1.0351875942381916"
            ]
          },
          "metadata": {},
          "execution_count": 18
        }
      ]
    },
    {
      "cell_type": "code",
      "metadata": {
        "id": "ggayKfbnAIic"
      },
      "source": [
        "# For n = 1000\n",
        "n = 1000\n",
        "sample = generate_sampleq(n, mu, sigma)\n",
        "w = importance_weights(sample)\n",
        "wt = normalizedw(w)\n",
        "estimate = estimatef(sample,wt)"
      ],
      "execution_count": null,
      "outputs": []
    },
    {
      "cell_type": "code",
      "metadata": {
        "id": "wcmxO9cJAIfJ",
        "colab": {
          "base_uri": "https://localhost:8080/"
        },
        "outputId": "13e60261-8e5a-477c-eb29-a490e6913559"
      },
      "source": [
        "estimate"
      ],
      "execution_count": null,
      "outputs": [
        {
          "output_type": "execute_result",
          "data": {
            "text/plain": [
              "-1.9360852576341698"
            ]
          },
          "metadata": {},
          "execution_count": 20
        }
      ]
    },
    {
      "cell_type": "code",
      "metadata": {
        "id": "9TOnIfl0AIcF"
      },
      "source": [
        "# For n = 10000\n",
        "n = 10000\n",
        "sample = generate_sampleq(n, mu, sigma)\n",
        "w = importance_weights(sample)\n",
        "wt = normalizedw(w)\n",
        "estimate = estimatef(sample,wt)"
      ],
      "execution_count": null,
      "outputs": []
    },
    {
      "cell_type": "code",
      "metadata": {
        "id": "ZfxVuog-AIZK",
        "colab": {
          "base_uri": "https://localhost:8080/"
        },
        "outputId": "265bb15b-3a53-4eb4-91de-830b0d1a9a48"
      },
      "source": [
        "estimate"
      ],
      "execution_count": null,
      "outputs": [
        {
          "output_type": "execute_result",
          "data": {
            "text/plain": [
              "0.32924167552405903"
            ]
          },
          "metadata": {},
          "execution_count": 22
        }
      ]
    },
    {
      "cell_type": "markdown",
      "metadata": {
        "id": "cwPU3iStWPHY"
      },
      "source": [
        "# 3.B Adaptative importance sampling"
      ]
    },
    {
      "cell_type": "markdown",
      "metadata": {
        "id": "kLyo8uJUWaq7"
      },
      "source": [
        "**Question 4**"
      ]
    },
    {
      "cell_type": "markdown",
      "metadata": {
        "id": "1sSg8zbBWpxu"
      },
      "source": [
        "Step (iii) de l'algorithme de Population Monte Carlo consiste à maximiser :\n",
        "\n",
        "$$ \\sum_{i = 1}^n \\tilde{w_{i}}  \\log \\left( \\sum_{j = 1}^m \\alpha_j \\varphi(X_i; \\theta_j) \\right) $$\n",
        "\n",
        "\n",
        "Ce qui ressemble beaucoup à la log-vraisemblance calculé dans de l'exercice 2 et sur laquelle est basé l'algorithme EM :\n",
        "\n",
        "$$ L(x_1,...,x_n; \\theta) = \\sum_{i = 1}^n \\log [\\sum_{j = 1}^m \\mathcal{N}(x_i ; \\mu_j,\\Sigma_j ) \\alpha_j]$$\n",
        "\n",
        "Ainsi, on voit très clairement que l'algorithme EM peut être utilisé pour le problème de maximisation du step (iii) de l'algorithme de Population Monte Carlo, il suffit juste de multiplier les $\\log [\\sum_{j = 1}^m \\mathcal{N}(x_i ; \\mu_j,\\Sigma_j ) \\alpha_j]$ avec les poids $\\tilde{w_{i}}$.\n",
        "\n",
        "Ainsi, en incorporant les poids  $\\tilde{w_{i}}$ dans l'algorithme EM, on obtient le nouveau $\\theta_{t+1}$ à l'étape M suivant :\n",
        "\n",
        "$$ \\hat{\\alpha_j} = \\dfrac{1}{n} \\sum_{i = 1}^n \\tilde{w_{i}}\\tau_{ij}^t $$\n",
        "\n",
        "$ $\n",
        "\n",
        "$$ \\hat{\\mu_j} = \\dfrac{1}{\\sum_{i = 1}^n \\tau_{ij}^t\\tilde{w_{i}}} \\sum_{i = 1}^n \\tau_{ij}^t x_i\\tilde{w_{i}} $$\n",
        "\n",
        "$$ \\hat{\\Sigma_j} = \\dfrac{1}{\\sum_{i = 1}^n \\tau_{ij}^t\\tilde{w_{i}}} \\sum_{i = 1}^n \\tau_{ij}^t \\tilde{w_{i}} (x_i - \\mu_j) (x_i - \\mu_j)^T $$\n",
        "\n",
        "\n"
      ]
    },
    {
      "cell_type": "markdown",
      "metadata": {
        "id": "2D2nhuSqX5OV"
      },
      "source": [
        "# 3.C  Application to a \"banana\"-shaped density"
      ]
    },
    {
      "cell_type": "code",
      "metadata": {
        "id": "Bh39TVJKfeH-"
      },
      "source": [
        "def N(x, d, mu, sigma) :\n",
        "  n = len(x)\n",
        "  invSigma = np.linalg.pinv(sigma)\n",
        "\t#detSigma = np.linalg.det(sigma)\n",
        "  detSigma = np.linalg.det(sigma)\n",
        "  X = x - mu\n",
        "  return np.exp(-0.5 * X.T @ invSigma.reshape(1, m, d, d) @ X) / (detSigma * (2*np.pi)**d + 1e-10) ** 0.5\n",
        "\n",
        "def q_gauss(x, d, alpha, mu, sigma) :\n",
        "  Q = np.array([ alpha[i] * N(x,d,mu,sigma) for i in range(len(x))])\n",
        "  return Q.sum()\n",
        "\n",
        "def p_new(x, d, alpha, mu, sigma) :\n",
        "  Xnew = x\n",
        "  Xnew[1] = x[1] + b(x[0]**2 - sigma1**2)\n",
        "\n",
        "  Q = np.array([ alpha[i] * N(Xnew,d,mu,sigma) for i in range(len(Xnew))])\n",
        "  return Q.sum()"
      ],
      "execution_count": 1,
      "outputs": []
    },
    {
      "cell_type": "code",
      "metadata": {
        "id": "DLQIkfBqWOzn"
      },
      "source": [
        "##### New EM Algorithm\n",
        "\n",
        "def new_EM(X, m, nSteps, verbose=True):\n",
        "\tn, d = X.shape\n",
        "\t# Mean of X\n",
        "\tmX = X.mean(0)\n",
        "\t# Covariance of X\n",
        "\tcX = X - mX\n",
        "\tsX = cX.T @ cX / len(X)\n",
        "\t# Initial parameters\n",
        "\talpha = np.ones(m) / m\n",
        "\tmu = np.array([np.random.multivariate_normal(mX, sX) for _ in range(m)])\n",
        "\tsigma = np.array([sX / m**2] * m)\n",
        "\t# Function to center X with respect to mu\n",
        "\tcentered = lambda: X.reshape(n, 1, d, 1) - mu.reshape(1, m, d, 1)\n",
        " \n",
        "\tfor t in range(nSteps+1):\n",
        "\t\t# E step\n",
        "\t\tinvSigma = np.linalg.pinv(sigma)\n",
        "\t\tdetSigma = np.linalg.det(sigma)\n",
        "\t\tif t == 0: Xc = centered()\n",
        "\t\tcov = Xc.transpose((0, 1, 3, 2)) @ invSigma.reshape(1, m, d, d) @ Xc\n",
        "\t\ttau = np.exp(-0.5 * cov.reshape(n, m)) * alpha / (detSigma * (2*np.pi)**d + 1e-10) ** 0.5\n",
        "\t\tL = tau.sum(1)\n",
        "\t\tif verbose: print(\"log-likelihood:\", np.log(L).sum())\n",
        "\t\tif t == nSteps: break\n",
        "\t\ttau /= L.reshape(n, 1)\n",
        "\n",
        "\t\t# M step\n",
        "    w = np.array([ p_new(X[i])/q_gauss(X[i]) for i in range(len(X))])\n",
        "\t\twt = []\n",
        "\t \tfor i in range(len(w)) :\n",
        "    \tA = w[i]/ np.sum(w)\n",
        "    \twt.append(A)\n",
        "\t\twt = np.array(wt)\n",
        "\n",
        "\t\talp = np.array([ wt[i] * tau[i] for i in range(len(wt))])\n",
        "\t\talpha = (1/n) * np.sum(alp)\t\n",
        "\t\tmu = (tau.reshape(n, m, 1) * X.reshape(n, 1, d) * wt.reshape(n,1,d)).mean(0) / np.sum(alp)\n",
        "\t\tXc = centered()\n",
        "\t\tsigma = (wt.reshape(n, 1, d) * tau.reshape(n, m, 1, 1) * (Xc @ Xc.transpose((0, 1, 3, 2)))).mean(0) / np.sum(alp)\n",
        "\treturn alpha, mu, sigma"
      ],
      "execution_count": null,
      "outputs": []
    },
    {
      "cell_type": "markdown",
      "metadata": {
        "id": "e1sXWvf-wf-M"
      },
      "source": [
        "I am stuck here ! I don't succeed in running my code because of a mistake that I've tried to fix but in vain"
      ]
    },
    {
      "cell_type": "markdown",
      "metadata": {
        "id": "QpcF5nOGyuU_"
      },
      "source": [
        "Même si mon code ne fonctionne pas très bien, je vais quand même définir la fonction de l'algorithme Population Monte Carlo :"
      ]
    },
    {
      "cell_type": "code",
      "metadata": {
        "id": "-6Rgvx6bsqvP"
      },
      "source": [
        "def populationMC(alpha, mu, sigma) :\n",
        "  for i in range(500) :  # I choose 500 iterations so that the algorithm has time to converge\n",
        "    X = sample(alpha, mu, sigma)\n",
        "    alphanew, munew, sigmanew = new_EM(X, m, nSteps) # où new_EM() est l'algorithme EM revisité pour le step(iii) de l'algo population Monte Carlo\n",
        "    alpha = alphanew\n",
        "    mu = munew\n",
        "    sigma = sigmanew\n",
        "  return alpha, mu, sigma"
      ],
      "execution_count": null,
      "outputs": []
    },
    {
      "cell_type": "markdown",
      "metadata": {
        "id": "_D9FilgKzxjs"
      },
      "source": [
        "Cette algorithme renvoie au final les paramètres alpha, mu et sigma qui nous permettent d'approximer la solution $q_{\\theta^{*}}$."
      ]
    },
    {
      "cell_type": "code",
      "metadata": {
        "id": "pZlD7Z9OY_CA"
      },
      "source": [
        "\n",
        "\n",
        "\n",
        "\n",
        "# Parameters\n",
        "nSteps = 30\n",
        "\n",
        "# Recall that we have our observations X = sample(alpha0, mu0, sigma0)\n",
        "fig, ax = plt.subplots()\n",
        "alpha, mu, sigma = EM(X, m, nSteps)\n",
        "print(\" \")\n",
        "print(\"This is the estimated alpha :\")\n",
        "print(alpha)\n",
        "print(\" \")\n",
        "print(\"This is the estimated mu :\")\n",
        "print(mu)\n",
        "print(\" \")\n",
        "print(\"This is the estimated sigma :\")\n",
        "print(sigma)\n",
        "print(\" \")\n",
        "plot_gaussians(mu, sigma, ax)\n",
        "plot_observations(X)\n",
        "plt.show()"
      ],
      "execution_count": null,
      "outputs": []
    }
  ]
}