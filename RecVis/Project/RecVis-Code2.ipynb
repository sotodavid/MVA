{
  "nbformat": 4,
  "nbformat_minor": 0,
  "metadata": {
    "colab": {
      "name": "Overlay_Image_Segmentation_Mask.ipynb",
      "provenance": [],
      "collapsed_sections": []
    },
    "kernelspec": {
      "name": "python3",
      "display_name": "Python 3"
    },
    "language_info": {
      "name": "python"
    }
  },
  "cells": [
    {
      "cell_type": "markdown",
      "source": [
        "# Overlaying image segmentation mask without associated image"
      ],
      "metadata": {
        "id": "VhvjwkUdUQUF"
      }
    },
    {
      "cell_type": "markdown",
      "source": [
        "## Environment hardware"
      ],
      "metadata": {
        "id": "Qc8ZMZbAUCkO"
      }
    },
    {
      "cell_type": "code",
      "source": [
        "gpu_info = !nvidia-smi\n",
        "gpu_info = '\\n'.join(gpu_info)\n",
        "if gpu_info.find('failed') >= 0:\n",
        "  print('Not connected to a GPU')\n",
        "else:\n",
        "  print(gpu_info)"
      ],
      "metadata": {
        "colab": {
          "base_uri": "https://localhost:8080/"
        },
        "id": "5Zd_WhgkUNqZ",
        "outputId": "b5f9f732-13e5-4e6f-daf5-682f65b55a5e"
      },
      "execution_count": null,
      "outputs": [
        {
          "output_type": "stream",
          "name": "stdout",
          "text": [
            "Not connected to a GPU\n"
          ]
        }
      ]
    },
    {
      "cell_type": "code",
      "source": [
        "from psutil import virtual_memory\n",
        "ram_gb = virtual_memory().total / 1e9\n",
        "print('Your runtime has {:.1f} gigabytes of available RAM\\n'.format(ram_gb))\n",
        "\n",
        "if ram_gb < 20:\n",
        "  print('Not using a high-RAM runtime')\n",
        "else:\n",
        "  print('You are using a high-RAM runtime!')"
      ],
      "metadata": {
        "colab": {
          "base_uri": "https://localhost:8080/"
        },
        "id": "GnNgfHwjUPcg",
        "outputId": "ccf4cd2f-6a3b-4ca4-9569-5b97dcb7a8ec"
      },
      "execution_count": null,
      "outputs": [
        {
          "output_type": "stream",
          "name": "stdout",
          "text": [
            "Your runtime has 13.6 gigabytes of available RAM\n",
            "\n",
            "Not using a high-RAM runtime\n"
          ]
        }
      ]
    },
    {
      "cell_type": "code",
      "source": [
        "# Some basic setup:\n",
        "# import some common libraries\n",
        "import numpy as np\n",
        "import os, json, cv2, random\n",
        "from google.colab.patches import cv2_imshow\n",
        "from google.colab import files\n",
        "import matplotlib.pyplot as plt\n",
        "import pandas as pd\n",
        "import seaborn as sns\n",
        "\n",
        "from PIL import Image\n",
        "\n",
        "import gdown\n",
        "import zipfile\n",
        "import shutil\n",
        "import time\n",
        "import functools\n",
        "\n",
        "from zipfile import ZipFile\n"
      ],
      "metadata": {
        "id": "urt3waGwUXRd"
      },
      "execution_count": null,
      "outputs": []
    },
    {
      "cell_type": "markdown",
      "source": [
        "## Define directories and link to gdrive"
      ],
      "metadata": {
        "id": "jh3cVcEEUmwg"
      }
    },
    {
      "cell_type": "code",
      "source": [
        "os.mkdir('Masks')\n",
        "os.mkdir('Images')\n",
        "os.mkdir('Outputs')\n",
        "from google.colab import drive\n",
        "drive.mount('/content/drive')\n"
      ],
      "metadata": {
        "id": "0LHCsXjRUpzi",
        "colab": {
          "base_uri": "https://localhost:8080/"
        },
        "outputId": "3ff374ce-321b-4fac-b1e9-45fd0bda833d"
      },
      "execution_count": null,
      "outputs": [
        {
          "output_type": "stream",
          "name": "stdout",
          "text": [
            "Drive already mounted at /content/drive; to attempt to forcibly remount, call drive.mount(\"/content/drive\", force_remount=True).\n"
          ]
        }
      ]
    },
    {
      "cell_type": "markdown",
      "source": [
        "## Define images directory"
      ],
      "metadata": {
        "id": "_xhszdnvBr8n"
      }
    },
    {
      "cell_type": "markdown",
      "source": [
        "Usually, there is only one images directory (dataset inputs) for all the segmentations masks outputs directory (inference output masks or ground-truth masks."
      ],
      "metadata": {
        "id": "s4Q9sAutB51x"
      }
    },
    {
      "cell_type": "code",
      "source": [
        "# Extract images\n",
        "\n",
        "# path of zip archive containing images jpeg\n",
        "images_archive = '/content/drive/MyDrive/MVA/RecVis/Project/Visualization/DAVIS/davis_validation_jpeg.zip'\n",
        "\n",
        "\n",
        "images_filename, images_file_extension = os.path.splitext(images_archive)\n",
        "images_basename = os.path.basename(os.path.normpath(images_filename))\n",
        "\n",
        "path_to_images = os.path.join('/content/Images/', images_basename)\n",
        "\n",
        "if True:\n",
        "  with ZipFile(images_archive, 'r') as zipObj:\n",
        "    # Extract all the contents of zip file in different directory\n",
        "    zipObj.extractall('Images')\n",
        "    print('Images archive is unzipped in Images folder') \n",
        "elif os.path.isdir(images_archive):\n",
        "  shutil.copytree(\n",
        "      path_to_images,\n",
        "      path_to_images\n",
        "  )\n"
      ],
      "metadata": {
        "colab": {
          "base_uri": "https://localhost:8080/"
        },
        "id": "63Q5dz5BhHuV",
        "outputId": "7a6300bc-519b-4163-eb6a-0929a95648c7"
      },
      "execution_count": null,
      "outputs": [
        {
          "output_type": "stream",
          "name": "stdout",
          "text": [
            "Images archive is unzipped in Images folder\n"
          ]
        }
      ]
    },
    {
      "cell_type": "markdown",
      "source": [
        "## Define masks directory"
      ],
      "metadata": {
        "id": "hEgArJO3CL8f"
      }
    },
    {
      "cell_type": "code",
      "source": [
        "# Extract ground-truth masks\n",
        "\n",
        "# path of zip archive containing ground truth png masks\n",
        "masks_gt_archive = '/content/drive/MyDrive/MVA/RecVis/Project/Visualization/DAVIS/davis_val_annot_gt.zip'\n",
        "masks_gt_filename, masks_file_extension = os.path.splitext(masks_gt_archive)\n",
        "masks_gt_basename = os.path.basename(os.path.normpath(masks_gt_filename))\n",
        "\n",
        "path_to_masks_gt = os.path.join('/content/Masks/', masks_gt_basename)\n",
        "\n",
        "if zipfile.is_zipfile(masks_gt_archive):\n",
        "  with ZipFile(masks_gt_archive, 'r') as zipObj:\n",
        "    # Extract all the contents of zip file in different directory\n",
        "    zipObj.extractall('Masks')\n",
        "    print('Maks gt archive is unzipped in Mask folder') \n",
        "elif os.path.isdir(masks_gt_archive):\n",
        "  shutil.copytree(\n",
        "      masks_gt_archive,\n",
        "      path_to_masks_gt\n",
        "  )\n"
      ],
      "metadata": {
        "colab": {
          "base_uri": "https://localhost:8080/"
        },
        "id": "-hAdIzQrCcQi",
        "outputId": "c85ccf48-37d0-460b-f79d-0b96bcca0a87"
      },
      "execution_count": null,
      "outputs": [
        {
          "output_type": "stream",
          "name": "stdout",
          "text": [
            "Maks gt archive is unzipped in Mask folder\n"
          ]
        }
      ]
    },
    {
      "cell_type": "code",
      "source": [
        "# Extract masks\n",
        "\n",
        "# path of zip archive containing inferred png masks\n",
        "masks_archive = '/content/drive/MyDrive/MVA/RecVis/Project/Visualization/DAVIS/output_davis.zip'\n",
        "masks_filename, masks_file_extension = os.path.splitext(masks_archive)\n",
        "masks_basename = os.path.basename(os.path.normpath(masks_filename))\n",
        "\n",
        "path_to_masks = os.path.join('/content/Masks/', masks_basename)\n",
        "\n",
        "if zipfile.is_zipfile(masks_archive):\n",
        "  with ZipFile(masks_archive, 'r') as zipObj:\n",
        "    # Extract all the contents of zip file in different directory\n",
        "    zipObj.extractall('Masks')\n",
        "    print('Maks archive is unzipped in Mask folder') \n",
        "elif os.path.isdir(masks_archive):\n",
        "  shutil.copytree(\n",
        "      masks_archive,\n",
        "      path_to_masks\n",
        "  )\n"
      ],
      "metadata": {
        "colab": {
          "base_uri": "https://localhost:8080/"
        },
        "id": "RR4cxcGbW1Hi",
        "outputId": "cb73c557-a7b0-4cb3-d9b7-67b84bab7392"
      },
      "execution_count": null,
      "outputs": [
        {
          "output_type": "stream",
          "name": "stdout",
          "text": [
            "Maks archive is unzipped in Mask folder\n"
          ]
        }
      ]
    },
    {
      "cell_type": "code",
      "source": [
        "path_to_masks"
      ],
      "metadata": {
        "colab": {
          "base_uri": "https://localhost:8080/",
          "height": 35
        },
        "id": "zk7A1oGqky7k",
        "outputId": "4f902c68-875e-4fbd-810e-695cc703253f"
      },
      "execution_count": null,
      "outputs": [
        {
          "output_type": "execute_result",
          "data": {
            "application/vnd.google.colaboratory.intrinsic+json": {
              "type": "string"
            },
            "text/plain": [
              "'/content/Masks/output_davis'"
            ]
          },
          "metadata": {},
          "execution_count": 8
        }
      ]
    },
    {
      "cell_type": "markdown",
      "source": [
        "## Load video sequence and images"
      ],
      "metadata": {
        "id": "3MsRaQOQdHU_"
      }
    },
    {
      "cell_type": "code",
      "source": [
        "## OPTIONS\n",
        "video_sequences = ['bike-packing', 'blackswan', 'bmx-trees', 'breakdance', 'camel', 'car-roundabout',\n",
        "'car-shadow', 'cows', 'dance-twirl', 'dog', 'dogs-jump', 'drift-chicane',\n",
        "'drift-straight', 'goat', 'gold-fish', 'horsejump-high', 'india', 'judo',\n",
        "'kite-surf', 'lab-coat', 'libby', 'loading', 'mbike-trick', 'motocross-jump',\n",
        "'paragliding-launch', 'parkour', 'pigs', 'scooter-black', 'shooting',\n",
        " 'soapbox']\n",
        "alpha = 0.5  # transparency parameter\n",
        "stride = 3  # Browse each {stride} images\n",
        "save_im_blend = True  # Save segmentation\n",
        "save_im_blend_gt = False  # Save ground-truth segmentation\n",
        "show_gt_mask = False  # Show ground truth mask"
      ],
      "metadata": {
        "id": "lii1OBu6PPYE"
      },
      "execution_count": null,
      "outputs": []
    },
    {
      "cell_type": "code",
      "source": [
        "for  video_sequence in video_sequences:\n",
        "    video_ims_path = os.path.join(path_to_images, video_sequence)\n",
        "    video_masks_path = os.path.join(path_to_masks, video_sequence)\n",
        "    video_masks_gt_path = os.path.join(path_to_masks_gt, video_sequence)\n",
        "\n",
        "    list_ims_files = os.listdir(video_ims_path)\n",
        "    list_masks_files = os.listdir(video_masks_path)\n",
        "    list_ims_files.sort()\n",
        "    list_masks_files.sort()\n",
        "\n",
        "\n",
        "    for i, (im_filename, mask_filename) in enumerate(list(zip(list_ims_files, list_masks_files))[::stride]):\n",
        "        print('=====================================================================')\n",
        "        print('=====================================================================')  \n",
        "        print(f'Video {video_sequence} frame: {stride*i}')\n",
        "        im = Image.open(os.path.join(video_ims_path, im_filename))\n",
        "        mask = Image.open(os.path.join(video_masks_path, mask_filename))\n",
        "        if show_gt_mask:\n",
        "          mask_gt = Image.open(os.path.join(video_masks_gt_path, mask_filename))\n",
        "\n",
        "        # display(im)\n",
        "        # display(mask)\n",
        "\n",
        "        # im_blend = Image.blend(im.convert('RGB'), mask.convert('RGB'), 0.5)\n",
        "        # maskx = mask.copy().convert(\"L\")\n",
        "        # print(np.array(maskx).shape)\n",
        "\n",
        "        # im_blend = Image.composite(mask, im, maskx)\n",
        "        # display(im_blend)\n",
        "\n",
        "\n",
        "\n",
        "        im = np.array(im)\n",
        "        mask = np.array(mask.convert('RGB'))\n",
        "        im_blend = np.array(im)\n",
        "\n",
        "        mask_alpha = np.any(mask > 0., axis=2)\n",
        "        im_blend[mask_alpha] = (\n",
        "            alpha*im[mask_alpha]\n",
        "            + (1-alpha)*mask[mask_alpha]\n",
        "        )\n",
        "\n",
        "        if show_gt_mask:\n",
        "            mask_gt = np.array(mask_gt.convert('RGB'))\n",
        "            im_blend_gt = np.array(im)\n",
        "            mask_gt_alpha = np.any(mask_gt > 0., axis=2)\n",
        "            im_blend_gt[mask_gt_alpha] = (\n",
        "                alpha*im[mask_gt_alpha]\n",
        "                + (1-alpha)*mask_gt[mask_gt_alpha]\n",
        "            )\n",
        "\n",
        "\n",
        "        # Visualization\n",
        "        cv2_imshow(im[:, :, ::-1])\n",
        "        print('---------------------------------------------------------------------')\n",
        "        print('Mask infered')\n",
        "        cv2_imshow(mask[:, :, ::-1])\n",
        "        print('---------------------------------------------------------------------')\n",
        "        print('Mask ground-truth')\n",
        "        if show_gt_mask:\n",
        "            cv2_imshow(mask_gt[:, :, ::-1])\n",
        "        print('---------------------------------------------------------------------')\n",
        "        print('Image final infered')\n",
        "        cv2_imshow(im_blend[:, :, ::-1])\n",
        "        print('---------------------------------------------------------------------')\n",
        "        print('Image final ground-truth')\n",
        "        if show_gt_mask:\n",
        "            cv2_imshow(im_blend_gt[:, :, ::-1])\n",
        "        if save_im_blend:\n",
        "            os.makedirs(os.path.join('Outputs/', masks_basename, video_sequence),\n",
        "                        exist_ok=True)\n",
        "            cv2.imwrite(\n",
        "                os.path.join('Outputs/', masks_basename, video_sequence, im_filename),\n",
        "                im_blend[:, :, ::-1]\n",
        "            )\n",
        "\n",
        "        if show_gt_mask and save_im_blend_gt:\n",
        "            os.makedirs(os.path.join('Outputs/', masks_gt_basename, video_sequence),\n",
        "                        exist_ok=True)\n",
        "            cv2.imwrite(\n",
        "                os.path.join('Outputs/', masks_gt_basename, video_sequence, im_filename),\n",
        "                im_blend_gt[:, :, ::-1]\n",
        "            )\n",
        "        \n",
        "        time.sleep(4.)\n"
      ],
      "metadata": {
        "id": "A1yYBkaIc3ES"
      },
      "execution_count": null,
      "outputs": []
    },
    {
      "cell_type": "markdown",
      "source": [
        "## Download results"
      ],
      "metadata": {
        "id": "2lBLL6BmqTQ0"
      }
    },
    {
      "cell_type": "code",
      "source": [
        "!zip -r /content/Outputs_visualization.zip Outputs\n",
        "files.download('Outputs_visualization.zip')"
      ],
      "metadata": {
        "id": "EnXl8NPYDFH0"
      },
      "execution_count": null,
      "outputs": []
    },
    {
      "cell_type": "code",
      "source": [
        ""
      ],
      "metadata": {
        "id": "W-w5JthrDX7E"
      },
      "execution_count": null,
      "outputs": []
    }
  ]
}